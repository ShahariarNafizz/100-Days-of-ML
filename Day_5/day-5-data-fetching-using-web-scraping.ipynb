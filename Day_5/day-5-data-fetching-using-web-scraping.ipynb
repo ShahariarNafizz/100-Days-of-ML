{
 "cells": [
  {
   "cell_type": "code",
   "execution_count": 1,
   "id": "ac765ff8",
   "metadata": {
    "execution": {
     "iopub.execute_input": "2025-03-07T17:49:58.314286Z",
     "iopub.status.busy": "2025-03-07T17:49:58.313800Z",
     "iopub.status.idle": "2025-03-07T17:50:00.398896Z",
     "shell.execute_reply": "2025-03-07T17:50:00.397109Z"
    },
    "papermill": {
     "duration": 2.091678,
     "end_time": "2025-03-07T17:50:00.400897",
     "exception": false,
     "start_time": "2025-03-07T17:49:58.309219",
     "status": "completed"
    },
    "tags": []
   },
   "outputs": [],
   "source": [
    "import pandas as pd\n",
    "import requests\n",
    "from bs4 import BeautifulSoup\n",
    "import numpy as np"
   ]
  },
  {
   "cell_type": "code",
   "execution_count": 2,
   "id": "cd1b9f59",
   "metadata": {
    "execution": {
     "iopub.execute_input": "2025-03-07T17:50:00.406670Z",
     "iopub.status.busy": "2025-03-07T17:50:00.405909Z",
     "iopub.status.idle": "2025-03-07T17:50:02.017954Z",
     "shell.execute_reply": "2025-03-07T17:50:02.015433Z"
    },
    "papermill": {
     "duration": 1.617764,
     "end_time": "2025-03-07T17:50:02.020926",
     "exception": false,
     "start_time": "2025-03-07T17:50:00.403162",
     "status": "completed"
    },
    "tags": []
   },
   "outputs": [
    {
     "name": "stdout",
     "output_type": "stream",
     "text": [
      "<!doctype html>\n",
      "<html>\n",
      "<head>\n",
      "    <title>Example Domain</title>\n",
      "\n",
      "    <meta charset=\"utf-8\" />\n",
      "    <meta http-equiv=\"Content-type\" content=\"text/html; charset=utf-8\" />\n",
      "    <meta name=\"viewport\" content=\"width=device-width, initial-scale=1\" />\n",
      "    <style type=\"text/css\">\n",
      "    body {\n",
      "        background-color: #f0f0f2;\n",
      "        margin: 0;\n",
      "        padding: 0;\n",
      "        font-family: -apple-system, system-ui, BlinkMacSystemFont, \"Segoe UI\", \"Open Sans\", \"Helvetica Neue\", Helvetica, Arial, sans-serif;\n",
      "        \n",
      "    }\n",
      "    div {\n",
      "        width: 600px;\n",
      "        margin: 5em auto;\n",
      "        padding: 2em;\n",
      "        background-color: #fdfdff;\n",
      "        border-radius: 0.5em;\n",
      "        box-shadow: 2px 3px 7px 2px rgba(0,0,0,0.02);\n",
      "    }\n",
      "    a:link, a:visited {\n",
      "        color: #38488f;\n",
      "        text-decoration: none;\n",
      "    }\n",
      "    @media (max-width: 700px) {\n",
      "        div {\n",
      "            margin: 0 auto;\n",
      "            width: auto;\n",
      "        }\n",
      "    }\n",
      "    </style>    \n",
      "</head>\n",
      "\n",
      "<body>\n",
      "<div>\n",
      "    <h1>Example Domain</h1>\n",
      "    <p>This domain is for use in illustrative examples in documents. You may use this\n",
      "    domain in literature without prior coordination or asking for permission.</p>\n",
      "    <p><a href=\"https://www.iana.org/domains/example\">More information...</a></p>\n",
      "</div>\n",
      "</body>\n",
      "</html>\n",
      "\n"
     ]
    }
   ],
   "source": [
    "import requests\n",
    "\n",
    "headers = {\n",
    "    'User-Agent': 'Mozilla/5.0 (Windows NT 6.3; Win64; x64) AppleWebKit/537.36 (KHTML, like Gecko) Chrome/80.0.3987.162 Safari/537.36'\n",
    "}\n",
    "\n",
    "url = \"https://example.com\"  # Replace with the actual URL\n",
    "response = requests.get(url, headers=headers)\n",
    "\n",
    "print(response.text)  # To display the response content\n"
   ]
  },
  {
   "cell_type": "code",
   "execution_count": 3,
   "id": "b3a7fd39",
   "metadata": {
    "execution": {
     "iopub.execute_input": "2025-03-07T17:50:02.028430Z",
     "iopub.status.busy": "2025-03-07T17:50:02.028029Z",
     "iopub.status.idle": "2025-03-07T17:50:02.269158Z",
     "shell.execute_reply": "2025-03-07T17:50:02.267335Z"
    },
    "papermill": {
     "duration": 0.24702,
     "end_time": "2025-03-07T17:50:02.271580",
     "exception": false,
     "start_time": "2025-03-07T17:50:02.024560",
     "status": "completed"
    },
    "tags": []
   },
   "outputs": [],
   "source": [
    "\n",
    "webpage=requests.get('https://www.ambitionbox.com/list-of-companies?page=1').text"
   ]
  },
  {
   "cell_type": "code",
   "execution_count": 4,
   "id": "27ec05ca",
   "metadata": {
    "execution": {
     "iopub.execute_input": "2025-03-07T17:50:02.277563Z",
     "iopub.status.busy": "2025-03-07T17:50:02.277215Z",
     "iopub.status.idle": "2025-03-07T17:50:02.287639Z",
     "shell.execute_reply": "2025-03-07T17:50:02.286409Z"
    },
    "papermill": {
     "duration": 0.015517,
     "end_time": "2025-03-07T17:50:02.289688",
     "exception": false,
     "start_time": "2025-03-07T17:50:02.274171",
     "status": "completed"
    },
    "tags": []
   },
   "outputs": [],
   "source": [
    "soup=BeautifulSoup(webpage,'lxml')"
   ]
  },
  {
   "cell_type": "code",
   "execution_count": 5,
   "id": "2b7ee64e",
   "metadata": {
    "execution": {
     "iopub.execute_input": "2025-03-07T17:50:02.296228Z",
     "iopub.status.busy": "2025-03-07T17:50:02.295632Z",
     "iopub.status.idle": "2025-03-07T17:50:02.304794Z",
     "shell.execute_reply": "2025-03-07T17:50:02.303147Z"
    },
    "papermill": {
     "duration": 0.015317,
     "end_time": "2025-03-07T17:50:02.307338",
     "exception": false,
     "start_time": "2025-03-07T17:50:02.292021",
     "status": "completed"
    },
    "tags": []
   },
   "outputs": [
    {
     "data": {
      "text/plain": [
       "'Access Denied'"
      ]
     },
     "execution_count": 5,
     "metadata": {},
     "output_type": "execute_result"
    }
   ],
   "source": [
    "soup.find_all('h1')[0].text"
   ]
  },
  {
   "cell_type": "code",
   "execution_count": 6,
   "id": "51ee5e80",
   "metadata": {
    "execution": {
     "iopub.execute_input": "2025-03-07T17:50:02.313012Z",
     "iopub.status.busy": "2025-03-07T17:50:02.312558Z",
     "iopub.status.idle": "2025-03-07T17:50:02.318480Z",
     "shell.execute_reply": "2025-03-07T17:50:02.316508Z"
    },
    "papermill": {
     "duration": 0.010693,
     "end_time": "2025-03-07T17:50:02.320286",
     "exception": false,
     "start_time": "2025-03-07T17:50:02.309593",
     "status": "completed"
    },
    "tags": []
   },
   "outputs": [],
   "source": [
    "for i in soup.find_all('h2'):\n",
    "  print(i.text.strip())"
   ]
  },
  {
   "cell_type": "code",
   "execution_count": null,
   "id": "8d049198",
   "metadata": {
    "papermill": {
     "duration": 0.001804,
     "end_time": "2025-03-07T17:50:02.324776",
     "exception": false,
     "start_time": "2025-03-07T17:50:02.322972",
     "status": "completed"
    },
    "tags": []
   },
   "outputs": [],
   "source": []
  }
 ],
 "metadata": {
  "kaggle": {
   "accelerator": "none",
   "dataSources": [],
   "dockerImageVersionId": 30918,
   "isGpuEnabled": false,
   "isInternetEnabled": true,
   "language": "python",
   "sourceType": "notebook"
  },
  "kernelspec": {
   "display_name": "Python 3",
   "language": "python",
   "name": "python3"
  },
  "language_info": {
   "codemirror_mode": {
    "name": "ipython",
    "version": 3
   },
   "file_extension": ".py",
   "mimetype": "text/x-python",
   "name": "python",
   "nbconvert_exporter": "python",
   "pygments_lexer": "ipython3",
   "version": "3.10.12"
  },
  "papermill": {
   "default_parameters": {},
   "duration": 7.683755,
   "end_time": "2025-03-07T17:50:03.150798",
   "environment_variables": {},
   "exception": null,
   "input_path": "__notebook__.ipynb",
   "output_path": "__notebook__.ipynb",
   "parameters": {},
   "start_time": "2025-03-07T17:49:55.467043",
   "version": "2.6.0"
  }
 },
 "nbformat": 4,
 "nbformat_minor": 5
}
