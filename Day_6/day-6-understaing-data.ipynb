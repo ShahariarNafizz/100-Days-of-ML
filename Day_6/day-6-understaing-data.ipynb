{
 "cells": [
  {
   "cell_type": "code",
   "execution_count": 1,
   "id": "e49b9ba8",
   "metadata": {
    "execution": {
     "iopub.execute_input": "2025-03-07T21:47:24.187052Z",
     "iopub.status.busy": "2025-03-07T21:47:24.186652Z",
     "iopub.status.idle": "2025-03-07T21:47:25.197175Z",
     "shell.execute_reply": "2025-03-07T21:47:25.196005Z"
    },
    "papermill": {
     "duration": 1.023936,
     "end_time": "2025-03-07T21:47:25.199221",
     "exception": false,
     "start_time": "2025-03-07T21:47:24.175285",
     "status": "completed"
    },
    "tags": []
   },
   "outputs": [],
   "source": [
    "import pandas as pd"
   ]
  },
  {
   "cell_type": "code",
   "execution_count": 2,
   "id": "2110dad4",
   "metadata": {
    "execution": {
     "iopub.execute_input": "2025-03-07T21:47:25.221411Z",
     "iopub.status.busy": "2025-03-07T21:47:25.220902Z",
     "iopub.status.idle": "2025-03-07T21:47:25.249313Z",
     "shell.execute_reply": "2025-03-07T21:47:25.247615Z"
    },
    "papermill": {
     "duration": 0.040924,
     "end_time": "2025-03-07T21:47:25.251173",
     "exception": false,
     "start_time": "2025-03-07T21:47:25.210249",
     "status": "completed"
    },
    "tags": []
   },
   "outputs": [],
   "source": [
    "df= pd.read_csv('/kaggle/input/traindataset/train.csv')"
   ]
  },
  {
   "cell_type": "markdown",
   "id": "a50b5549",
   "metadata": {
    "papermill": {
     "duration": 0.009166,
     "end_time": "2025-03-07T21:47:25.269960",
     "exception": false,
     "start_time": "2025-03-07T21:47:25.260794",
     "status": "completed"
    },
    "tags": []
   },
   "source": [
    "# 1. How big the data"
   ]
  },
  {
   "cell_type": "code",
   "execution_count": 3,
   "id": "bd383355",
   "metadata": {
    "execution": {
     "iopub.execute_input": "2025-03-07T21:47:25.290629Z",
     "iopub.status.busy": "2025-03-07T21:47:25.290269Z",
     "iopub.status.idle": "2025-03-07T21:47:25.297459Z",
     "shell.execute_reply": "2025-03-07T21:47:25.296364Z"
    },
    "papermill": {
     "duration": 0.019783,
     "end_time": "2025-03-07T21:47:25.299427",
     "exception": false,
     "start_time": "2025-03-07T21:47:25.279644",
     "status": "completed"
    },
    "tags": []
   },
   "outputs": [
    {
     "data": {
      "text/plain": [
       "(891, 12)"
      ]
     },
     "execution_count": 3,
     "metadata": {},
     "output_type": "execute_result"
    }
   ],
   "source": [
    "df.shape                     # (rows, columns)"
   ]
  },
  {
   "cell_type": "markdown",
   "id": "b325e04f",
   "metadata": {
    "papermill": {
     "duration": 0.009396,
     "end_time": "2025-03-07T21:47:25.318916",
     "exception": false,
     "start_time": "2025-03-07T21:47:25.309520",
     "status": "completed"
    },
    "tags": []
   },
   "source": []
  },
  {
   "cell_type": "code",
   "execution_count": 4,
   "id": "fe710964",
   "metadata": {
    "execution": {
     "iopub.execute_input": "2025-03-07T21:47:25.339623Z",
     "iopub.status.busy": "2025-03-07T21:47:25.339224Z",
     "iopub.status.idle": "2025-03-07T21:47:25.346479Z",
     "shell.execute_reply": "2025-03-07T21:47:25.345428Z"
    },
    "papermill": {
     "duration": 0.019207,
     "end_time": "2025-03-07T21:47:25.348067",
     "exception": false,
     "start_time": "2025-03-07T21:47:25.328860",
     "status": "completed"
    },
    "tags": []
   },
   "outputs": [
    {
     "data": {
      "text/plain": [
       "10692"
      ]
     },
     "execution_count": 4,
     "metadata": {},
     "output_type": "execute_result"
    }
   ],
   "source": [
    "df.size                      #Total Number of Elements"
   ]
  },
  {
   "cell_type": "code",
   "execution_count": 5,
   "id": "2a700925",
   "metadata": {
    "execution": {
     "iopub.execute_input": "2025-03-07T21:47:25.369532Z",
     "iopub.status.busy": "2025-03-07T21:47:25.369179Z",
     "iopub.status.idle": "2025-03-07T21:47:25.385808Z",
     "shell.execute_reply": "2025-03-07T21:47:25.384456Z"
    },
    "papermill": {
     "duration": 0.029614,
     "end_time": "2025-03-07T21:47:25.387578",
     "exception": false,
     "start_time": "2025-03-07T21:47:25.357964",
     "status": "completed"
    },
    "tags": []
   },
   "outputs": [
    {
     "name": "stdout",
     "output_type": "stream",
     "text": [
      "Index            128\n",
      "PassengerId     7128\n",
      "Survived        7128\n",
      "Pclass          7128\n",
      "Name           74813\n",
      "Sex            54979\n",
      "Age             7128\n",
      "SibSp           7128\n",
      "Parch           7128\n",
      "Ticket         56802\n",
      "Fare            7128\n",
      "Cabin          34344\n",
      "Embarked       51626\n",
      "dtype: int64\n",
      "322588\n"
     ]
    }
   ],
   "source": [
    "print(df.memory_usage(deep=True))           # Memory usage per column\n",
    "print(df.memory_usage(deep=True).sum())     # Total memory usage in bytes\n"
   ]
  },
  {
   "cell_type": "code",
   "execution_count": null,
   "id": "95bd2edd",
   "metadata": {
    "papermill": {
     "duration": 0.009675,
     "end_time": "2025-03-07T21:47:25.407175",
     "exception": false,
     "start_time": "2025-03-07T21:47:25.397500",
     "status": "completed"
    },
    "tags": []
   },
   "outputs": [],
   "source": []
  },
  {
   "cell_type": "markdown",
   "id": "05b14fbc",
   "metadata": {
    "papermill": {
     "duration": 0.010071,
     "end_time": "2025-03-07T21:47:25.427214",
     "exception": false,
     "start_time": "2025-03-07T21:47:25.417143",
     "status": "completed"
    },
    "tags": []
   },
   "source": [
    "# 2. How does the data look like?"
   ]
  },
  {
   "cell_type": "code",
   "execution_count": 6,
   "id": "5585f144",
   "metadata": {
    "execution": {
     "iopub.execute_input": "2025-03-07T21:47:25.447994Z",
     "iopub.status.busy": "2025-03-07T21:47:25.447599Z",
     "iopub.status.idle": "2025-03-07T21:47:25.473193Z",
     "shell.execute_reply": "2025-03-07T21:47:25.472170Z"
    },
    "papermill": {
     "duration": 0.037986,
     "end_time": "2025-03-07T21:47:25.474979",
     "exception": false,
     "start_time": "2025-03-07T21:47:25.436993",
     "status": "completed"
    },
    "tags": []
   },
   "outputs": [
    {
     "data": {
      "text/html": [
       "<div>\n",
       "<style scoped>\n",
       "    .dataframe tbody tr th:only-of-type {\n",
       "        vertical-align: middle;\n",
       "    }\n",
       "\n",
       "    .dataframe tbody tr th {\n",
       "        vertical-align: top;\n",
       "    }\n",
       "\n",
       "    .dataframe thead th {\n",
       "        text-align: right;\n",
       "    }\n",
       "</style>\n",
       "<table border=\"1\" class=\"dataframe\">\n",
       "  <thead>\n",
       "    <tr style=\"text-align: right;\">\n",
       "      <th></th>\n",
       "      <th>PassengerId</th>\n",
       "      <th>Survived</th>\n",
       "      <th>Pclass</th>\n",
       "      <th>Name</th>\n",
       "      <th>Sex</th>\n",
       "      <th>Age</th>\n",
       "      <th>SibSp</th>\n",
       "      <th>Parch</th>\n",
       "      <th>Ticket</th>\n",
       "      <th>Fare</th>\n",
       "      <th>Cabin</th>\n",
       "      <th>Embarked</th>\n",
       "    </tr>\n",
       "  </thead>\n",
       "  <tbody>\n",
       "    <tr>\n",
       "      <th>0</th>\n",
       "      <td>1</td>\n",
       "      <td>0</td>\n",
       "      <td>3</td>\n",
       "      <td>Braund, Mr. Owen Harris</td>\n",
       "      <td>male</td>\n",
       "      <td>22.0</td>\n",
       "      <td>1</td>\n",
       "      <td>0</td>\n",
       "      <td>A/5 21171</td>\n",
       "      <td>7.2500</td>\n",
       "      <td>NaN</td>\n",
       "      <td>S</td>\n",
       "    </tr>\n",
       "    <tr>\n",
       "      <th>1</th>\n",
       "      <td>2</td>\n",
       "      <td>1</td>\n",
       "      <td>1</td>\n",
       "      <td>Cumings, Mrs. John Bradley (Florence Briggs Th...</td>\n",
       "      <td>female</td>\n",
       "      <td>38.0</td>\n",
       "      <td>1</td>\n",
       "      <td>0</td>\n",
       "      <td>PC 17599</td>\n",
       "      <td>71.2833</td>\n",
       "      <td>C85</td>\n",
       "      <td>C</td>\n",
       "    </tr>\n",
       "    <tr>\n",
       "      <th>2</th>\n",
       "      <td>3</td>\n",
       "      <td>1</td>\n",
       "      <td>3</td>\n",
       "      <td>Heikkinen, Miss. Laina</td>\n",
       "      <td>female</td>\n",
       "      <td>26.0</td>\n",
       "      <td>0</td>\n",
       "      <td>0</td>\n",
       "      <td>STON/O2. 3101282</td>\n",
       "      <td>7.9250</td>\n",
       "      <td>NaN</td>\n",
       "      <td>S</td>\n",
       "    </tr>\n",
       "    <tr>\n",
       "      <th>3</th>\n",
       "      <td>4</td>\n",
       "      <td>1</td>\n",
       "      <td>1</td>\n",
       "      <td>Futrelle, Mrs. Jacques Heath (Lily May Peel)</td>\n",
       "      <td>female</td>\n",
       "      <td>35.0</td>\n",
       "      <td>1</td>\n",
       "      <td>0</td>\n",
       "      <td>113803</td>\n",
       "      <td>53.1000</td>\n",
       "      <td>C123</td>\n",
       "      <td>S</td>\n",
       "    </tr>\n",
       "    <tr>\n",
       "      <th>4</th>\n",
       "      <td>5</td>\n",
       "      <td>0</td>\n",
       "      <td>3</td>\n",
       "      <td>Allen, Mr. William Henry</td>\n",
       "      <td>male</td>\n",
       "      <td>35.0</td>\n",
       "      <td>0</td>\n",
       "      <td>0</td>\n",
       "      <td>373450</td>\n",
       "      <td>8.0500</td>\n",
       "      <td>NaN</td>\n",
       "      <td>S</td>\n",
       "    </tr>\n",
       "  </tbody>\n",
       "</table>\n",
       "</div>"
      ],
      "text/plain": [
       "   PassengerId  Survived  Pclass  \\\n",
       "0            1         0       3   \n",
       "1            2         1       1   \n",
       "2            3         1       3   \n",
       "3            4         1       1   \n",
       "4            5         0       3   \n",
       "\n",
       "                                                Name     Sex   Age  SibSp  \\\n",
       "0                            Braund, Mr. Owen Harris    male  22.0      1   \n",
       "1  Cumings, Mrs. John Bradley (Florence Briggs Th...  female  38.0      1   \n",
       "2                             Heikkinen, Miss. Laina  female  26.0      0   \n",
       "3       Futrelle, Mrs. Jacques Heath (Lily May Peel)  female  35.0      1   \n",
       "4                           Allen, Mr. William Henry    male  35.0      0   \n",
       "\n",
       "   Parch            Ticket     Fare Cabin Embarked  \n",
       "0      0         A/5 21171   7.2500   NaN        S  \n",
       "1      0          PC 17599  71.2833   C85        C  \n",
       "2      0  STON/O2. 3101282   7.9250   NaN        S  \n",
       "3      0            113803  53.1000  C123        S  \n",
       "4      0            373450   8.0500   NaN        S  "
      ]
     },
     "execution_count": 6,
     "metadata": {},
     "output_type": "execute_result"
    }
   ],
   "source": [
    "df.head()               # Shows first 5 rows (default)"
   ]
  },
  {
   "cell_type": "code",
   "execution_count": 7,
   "id": "667f086d",
   "metadata": {
    "execution": {
     "iopub.execute_input": "2025-03-07T21:47:25.496596Z",
     "iopub.status.busy": "2025-03-07T21:47:25.496226Z",
     "iopub.status.idle": "2025-03-07T21:47:25.513090Z",
     "shell.execute_reply": "2025-03-07T21:47:25.511621Z"
    },
    "papermill": {
     "duration": 0.029776,
     "end_time": "2025-03-07T21:47:25.515071",
     "exception": false,
     "start_time": "2025-03-07T21:47:25.485295",
     "status": "completed"
    },
    "tags": []
   },
   "outputs": [
    {
     "name": "stdout",
     "output_type": "stream",
     "text": [
      "     PassengerId  Survived  Pclass                                      Name  \\\n",
      "886          887         0       2                     Montvila, Rev. Juozas   \n",
      "887          888         1       1              Graham, Miss. Margaret Edith   \n",
      "888          889         0       3  Johnston, Miss. Catherine Helen \"Carrie\"   \n",
      "889          890         1       1                     Behr, Mr. Karl Howell   \n",
      "890          891         0       3                       Dooley, Mr. Patrick   \n",
      "\n",
      "        Sex   Age  SibSp  Parch      Ticket   Fare Cabin Embarked  \n",
      "886    male  27.0      0      0      211536  13.00   NaN        S  \n",
      "887  female  19.0      0      0      112053  30.00   B42        S  \n",
      "888  female   NaN      1      2  W./C. 6607  23.45   NaN        S  \n",
      "889    male  26.0      0      0      111369  30.00  C148        C  \n",
      "890    male  32.0      0      0      370376   7.75   NaN        Q  \n",
      "     PassengerId  Survived  Pclass                                      Name  \\\n",
      "881          882         0       3                        Markun, Mr. Johann   \n",
      "882          883         0       3              Dahlberg, Miss. Gerda Ulrika   \n",
      "883          884         0       2             Banfield, Mr. Frederick James   \n",
      "884          885         0       3                    Sutehall, Mr. Henry Jr   \n",
      "885          886         0       3      Rice, Mrs. William (Margaret Norton)   \n",
      "886          887         0       2                     Montvila, Rev. Juozas   \n",
      "887          888         1       1              Graham, Miss. Margaret Edith   \n",
      "888          889         0       3  Johnston, Miss. Catherine Helen \"Carrie\"   \n",
      "889          890         1       1                     Behr, Mr. Karl Howell   \n",
      "890          891         0       3                       Dooley, Mr. Patrick   \n",
      "\n",
      "        Sex   Age  SibSp  Parch            Ticket     Fare Cabin Embarked  \n",
      "881    male  33.0      0      0            349257   7.8958   NaN        S  \n",
      "882  female  22.0      0      0              7552  10.5167   NaN        S  \n",
      "883    male  28.0      0      0  C.A./SOTON 34068  10.5000   NaN        S  \n",
      "884    male  25.0      0      0   SOTON/OQ 392076   7.0500   NaN        S  \n",
      "885  female  39.0      0      5            382652  29.1250   NaN        Q  \n",
      "886    male  27.0      0      0            211536  13.0000   NaN        S  \n",
      "887  female  19.0      0      0            112053  30.0000   B42        S  \n",
      "888  female   NaN      1      2        W./C. 6607  23.4500   NaN        S  \n",
      "889    male  26.0      0      0            111369  30.0000  C148        C  \n",
      "890    male  32.0      0      0            370376   7.7500   NaN        Q  \n"
     ]
    },
    {
     "name": "stderr",
     "output_type": "stream",
     "text": [
      "/usr/local/lib/python3.10/dist-packages/pandas/io/formats/format.py:1458: RuntimeWarning: invalid value encountered in greater\n",
      "  has_large_values = (abs_vals > 1e6).any()\n",
      "/usr/local/lib/python3.10/dist-packages/pandas/io/formats/format.py:1459: RuntimeWarning: invalid value encountered in less\n",
      "  has_small_values = ((abs_vals < 10 ** (-self.digits)) & (abs_vals > 0)).any()\n",
      "/usr/local/lib/python3.10/dist-packages/pandas/io/formats/format.py:1459: RuntimeWarning: invalid value encountered in greater\n",
      "  has_small_values = ((abs_vals < 10 ** (-self.digits)) & (abs_vals > 0)).any()\n",
      "/usr/local/lib/python3.10/dist-packages/pandas/io/formats/format.py:1458: RuntimeWarning: invalid value encountered in greater\n",
      "  has_large_values = (abs_vals > 1e6).any()\n",
      "/usr/local/lib/python3.10/dist-packages/pandas/io/formats/format.py:1459: RuntimeWarning: invalid value encountered in less\n",
      "  has_small_values = ((abs_vals < 10 ** (-self.digits)) & (abs_vals > 0)).any()\n",
      "/usr/local/lib/python3.10/dist-packages/pandas/io/formats/format.py:1459: RuntimeWarning: invalid value encountered in greater\n",
      "  has_small_values = ((abs_vals < 10 ** (-self.digits)) & (abs_vals > 0)).any()\n"
     ]
    }
   ],
   "source": [
    "print(df.tail())                          # Shows last 5 rows (default)\n",
    "print(df.tail(10))                        # Shows last 10 rows\n"
   ]
  },
  {
   "cell_type": "code",
   "execution_count": 8,
   "id": "e00f279e",
   "metadata": {
    "execution": {
     "iopub.execute_input": "2025-03-07T21:47:25.536749Z",
     "iopub.status.busy": "2025-03-07T21:47:25.536386Z",
     "iopub.status.idle": "2025-03-07T21:47:25.556411Z",
     "shell.execute_reply": "2025-03-07T21:47:25.555225Z"
    },
    "papermill": {
     "duration": 0.032784,
     "end_time": "2025-03-07T21:47:25.558090",
     "exception": false,
     "start_time": "2025-03-07T21:47:25.525306",
     "status": "completed"
    },
    "tags": []
   },
   "outputs": [
    {
     "name": "stderr",
     "output_type": "stream",
     "text": [
      "/usr/local/lib/python3.10/dist-packages/pandas/io/formats/format.py:1458: RuntimeWarning: invalid value encountered in greater\n",
      "  has_large_values = (abs_vals > 1e6).any()\n",
      "/usr/local/lib/python3.10/dist-packages/pandas/io/formats/format.py:1459: RuntimeWarning: invalid value encountered in less\n",
      "  has_small_values = ((abs_vals < 10 ** (-self.digits)) & (abs_vals > 0)).any()\n",
      "/usr/local/lib/python3.10/dist-packages/pandas/io/formats/format.py:1459: RuntimeWarning: invalid value encountered in greater\n",
      "  has_small_values = ((abs_vals < 10 ** (-self.digits)) & (abs_vals > 0)).any()\n"
     ]
    },
    {
     "data": {
      "text/html": [
       "<div>\n",
       "<style scoped>\n",
       "    .dataframe tbody tr th:only-of-type {\n",
       "        vertical-align: middle;\n",
       "    }\n",
       "\n",
       "    .dataframe tbody tr th {\n",
       "        vertical-align: top;\n",
       "    }\n",
       "\n",
       "    .dataframe thead th {\n",
       "        text-align: right;\n",
       "    }\n",
       "</style>\n",
       "<table border=\"1\" class=\"dataframe\">\n",
       "  <thead>\n",
       "    <tr style=\"text-align: right;\">\n",
       "      <th></th>\n",
       "      <th>PassengerId</th>\n",
       "      <th>Survived</th>\n",
       "      <th>Pclass</th>\n",
       "      <th>Name</th>\n",
       "      <th>Sex</th>\n",
       "      <th>Age</th>\n",
       "      <th>SibSp</th>\n",
       "      <th>Parch</th>\n",
       "      <th>Ticket</th>\n",
       "      <th>Fare</th>\n",
       "      <th>Cabin</th>\n",
       "      <th>Embarked</th>\n",
       "    </tr>\n",
       "  </thead>\n",
       "  <tbody>\n",
       "    <tr>\n",
       "      <th>472</th>\n",
       "      <td>473</td>\n",
       "      <td>1</td>\n",
       "      <td>2</td>\n",
       "      <td>West, Mrs. Edwy Arthur (Ada Mary Worth)</td>\n",
       "      <td>female</td>\n",
       "      <td>33.0</td>\n",
       "      <td>1</td>\n",
       "      <td>2</td>\n",
       "      <td>C.A. 34651</td>\n",
       "      <td>27.7500</td>\n",
       "      <td>NaN</td>\n",
       "      <td>S</td>\n",
       "    </tr>\n",
       "    <tr>\n",
       "      <th>496</th>\n",
       "      <td>497</td>\n",
       "      <td>1</td>\n",
       "      <td>1</td>\n",
       "      <td>Eustis, Miss. Elizabeth Mussey</td>\n",
       "      <td>female</td>\n",
       "      <td>54.0</td>\n",
       "      <td>1</td>\n",
       "      <td>0</td>\n",
       "      <td>36947</td>\n",
       "      <td>78.2667</td>\n",
       "      <td>D20</td>\n",
       "      <td>C</td>\n",
       "    </tr>\n",
       "    <tr>\n",
       "      <th>604</th>\n",
       "      <td>605</td>\n",
       "      <td>1</td>\n",
       "      <td>1</td>\n",
       "      <td>Homer, Mr. Harry (\"Mr E Haven\")</td>\n",
       "      <td>male</td>\n",
       "      <td>35.0</td>\n",
       "      <td>0</td>\n",
       "      <td>0</td>\n",
       "      <td>111426</td>\n",
       "      <td>26.5500</td>\n",
       "      <td>NaN</td>\n",
       "      <td>C</td>\n",
       "    </tr>\n",
       "    <tr>\n",
       "      <th>101</th>\n",
       "      <td>102</td>\n",
       "      <td>0</td>\n",
       "      <td>3</td>\n",
       "      <td>Petroff, Mr. Pastcho (\"Pentcho\")</td>\n",
       "      <td>male</td>\n",
       "      <td>NaN</td>\n",
       "      <td>0</td>\n",
       "      <td>0</td>\n",
       "      <td>349215</td>\n",
       "      <td>7.8958</td>\n",
       "      <td>NaN</td>\n",
       "      <td>S</td>\n",
       "    </tr>\n",
       "    <tr>\n",
       "      <th>611</th>\n",
       "      <td>612</td>\n",
       "      <td>0</td>\n",
       "      <td>3</td>\n",
       "      <td>Jardin, Mr. Jose Neto</td>\n",
       "      <td>male</td>\n",
       "      <td>NaN</td>\n",
       "      <td>0</td>\n",
       "      <td>0</td>\n",
       "      <td>SOTON/O.Q. 3101305</td>\n",
       "      <td>7.0500</td>\n",
       "      <td>NaN</td>\n",
       "      <td>S</td>\n",
       "    </tr>\n",
       "  </tbody>\n",
       "</table>\n",
       "</div>"
      ],
      "text/plain": [
       "     PassengerId  Survived  Pclass                                     Name  \\\n",
       "472          473         1       2  West, Mrs. Edwy Arthur (Ada Mary Worth)   \n",
       "496          497         1       1           Eustis, Miss. Elizabeth Mussey   \n",
       "604          605         1       1          Homer, Mr. Harry (\"Mr E Haven\")   \n",
       "101          102         0       3         Petroff, Mr. Pastcho (\"Pentcho\")   \n",
       "611          612         0       3                    Jardin, Mr. Jose Neto   \n",
       "\n",
       "        Sex   Age  SibSp  Parch              Ticket     Fare Cabin Embarked  \n",
       "472  female  33.0      1      2          C.A. 34651  27.7500   NaN        S  \n",
       "496  female  54.0      1      0               36947  78.2667   D20        C  \n",
       "604    male  35.0      0      0              111426  26.5500   NaN        C  \n",
       "101    male   NaN      0      0              349215   7.8958   NaN        S  \n",
       "611    male   NaN      0      0  SOTON/O.Q. 3101305   7.0500   NaN        S  "
      ]
     },
     "execution_count": 8,
     "metadata": {},
     "output_type": "execute_result"
    }
   ],
   "source": [
    "df.sample(5)"
   ]
  },
  {
   "cell_type": "code",
   "execution_count": 9,
   "id": "7b53e64b",
   "metadata": {
    "execution": {
     "iopub.execute_input": "2025-03-07T21:47:25.580546Z",
     "iopub.status.busy": "2025-03-07T21:47:25.580218Z",
     "iopub.status.idle": "2025-03-07T21:47:25.585280Z",
     "shell.execute_reply": "2025-03-07T21:47:25.584207Z"
    },
    "papermill": {
     "duration": 0.018342,
     "end_time": "2025-03-07T21:47:25.587160",
     "exception": false,
     "start_time": "2025-03-07T21:47:25.568818",
     "status": "completed"
    },
    "tags": []
   },
   "outputs": [
    {
     "name": "stdout",
     "output_type": "stream",
     "text": [
      "Index(['PassengerId', 'Survived', 'Pclass', 'Name', 'Sex', 'Age', 'SibSp',\n",
      "       'Parch', 'Ticket', 'Fare', 'Cabin', 'Embarked'],\n",
      "      dtype='object')\n"
     ]
    }
   ],
   "source": [
    "print(df.columns)              #View Column Names\n"
   ]
  },
  {
   "cell_type": "code",
   "execution_count": 10,
   "id": "b0e57145",
   "metadata": {
    "execution": {
     "iopub.execute_input": "2025-03-07T21:47:25.609628Z",
     "iopub.status.busy": "2025-03-07T21:47:25.609252Z",
     "iopub.status.idle": "2025-03-07T21:47:25.638337Z",
     "shell.execute_reply": "2025-03-07T21:47:25.636983Z"
    },
    "papermill": {
     "duration": 0.042649,
     "end_time": "2025-03-07T21:47:25.640346",
     "exception": false,
     "start_time": "2025-03-07T21:47:25.597697",
     "status": "completed"
    },
    "tags": []
   },
   "outputs": [
    {
     "name": "stdout",
     "output_type": "stream",
     "text": [
      "       PassengerId    Survived      Pclass         Age       SibSp  \\\n",
      "count   891.000000  891.000000  891.000000  714.000000  891.000000   \n",
      "mean    446.000000    0.383838    2.308642   29.699118    0.523008   \n",
      "std     257.353842    0.486592    0.836071   14.526497    1.102743   \n",
      "min       1.000000    0.000000    1.000000    0.420000    0.000000   \n",
      "25%     223.500000    0.000000    2.000000   20.125000    0.000000   \n",
      "50%     446.000000    0.000000    3.000000   28.000000    0.000000   \n",
      "75%     668.500000    1.000000    3.000000   38.000000    1.000000   \n",
      "max     891.000000    1.000000    3.000000   80.000000    8.000000   \n",
      "\n",
      "            Parch        Fare  \n",
      "count  891.000000  891.000000  \n",
      "mean     0.381594   32.204208  \n",
      "std      0.806057   49.693429  \n",
      "min      0.000000    0.000000  \n",
      "25%      0.000000    7.910400  \n",
      "50%      0.000000   14.454200  \n",
      "75%      0.000000   31.000000  \n",
      "max      6.000000  512.329200  \n"
     ]
    }
   ],
   "source": [
    "print(df.describe())                     # Summary for numerical columns\n"
   ]
  },
  {
   "cell_type": "code",
   "execution_count": 11,
   "id": "778a7ff6",
   "metadata": {
    "execution": {
     "iopub.execute_input": "2025-03-07T21:47:25.662864Z",
     "iopub.status.busy": "2025-03-07T21:47:25.662499Z",
     "iopub.status.idle": "2025-03-07T21:47:25.670278Z",
     "shell.execute_reply": "2025-03-07T21:47:25.669036Z"
    },
    "papermill": {
     "duration": 0.020699,
     "end_time": "2025-03-07T21:47:25.671914",
     "exception": false,
     "start_time": "2025-03-07T21:47:25.651215",
     "status": "completed"
    },
    "tags": []
   },
   "outputs": [
    {
     "name": "stdout",
     "output_type": "stream",
     "text": [
      "[22.   38.   26.   35.     nan 54.    2.   27.   14.    4.   58.   20.\n",
      " 39.   55.   31.   34.   15.   28.    8.   19.   40.   66.   42.   21.\n",
      " 18.    3.    7.   49.   29.   65.   28.5   5.   11.   45.   17.   32.\n",
      " 16.   25.    0.83 30.   33.   23.   24.   46.   59.   71.   37.   47.\n",
      " 14.5  70.5  32.5  12.    9.   36.5  51.   55.5  40.5  44.    1.   61.\n",
      " 56.   50.   36.   45.5  20.5  62.   41.   52.   63.   23.5   0.92 43.\n",
      " 60.   10.   64.   13.   48.    0.75 53.   57.   80.   70.   24.5   6.\n",
      "  0.67 30.5   0.42 34.5  74.  ]\n"
     ]
    }
   ],
   "source": [
    "print(df['Age'].unique())  # Unique city Age\n"
   ]
  },
  {
   "cell_type": "code",
   "execution_count": 12,
   "id": "862d8fef",
   "metadata": {
    "execution": {
     "iopub.execute_input": "2025-03-07T21:47:25.694652Z",
     "iopub.status.busy": "2025-03-07T21:47:25.694320Z",
     "iopub.status.idle": "2025-03-07T21:47:25.707421Z",
     "shell.execute_reply": "2025-03-07T21:47:25.706257Z"
    },
    "papermill": {
     "duration": 0.026527,
     "end_time": "2025-03-07T21:47:25.709294",
     "exception": false,
     "start_time": "2025-03-07T21:47:25.682767",
     "status": "completed"
    },
    "tags": []
   },
   "outputs": [
    {
     "name": "stdout",
     "output_type": "stream",
     "text": [
      "Age\n",
      "24.00    30\n",
      "22.00    27\n",
      "18.00    26\n",
      "19.00    25\n",
      "28.00    25\n",
      "         ..\n",
      "36.50     1\n",
      "55.50     1\n",
      "0.92      1\n",
      "23.50     1\n",
      "74.00     1\n",
      "Name: count, Length: 88, dtype: int64\n"
     ]
    }
   ],
   "source": [
    "print(df['Age'].value_counts())\n"
   ]
  },
  {
   "cell_type": "markdown",
   "id": "6c3e281f",
   "metadata": {
    "papermill": {
     "duration": 0.010679,
     "end_time": "2025-03-07T21:47:25.730981",
     "exception": false,
     "start_time": "2025-03-07T21:47:25.720302",
     "status": "completed"
    },
    "tags": []
   },
   "source": [
    "# 3. What is the data type of column"
   ]
  },
  {
   "cell_type": "code",
   "execution_count": 13,
   "id": "9ff16a0b",
   "metadata": {
    "execution": {
     "iopub.execute_input": "2025-03-07T21:47:25.753786Z",
     "iopub.status.busy": "2025-03-07T21:47:25.753409Z",
     "iopub.status.idle": "2025-03-07T21:47:25.771993Z",
     "shell.execute_reply": "2025-03-07T21:47:25.770716Z"
    },
    "papermill": {
     "duration": 0.031881,
     "end_time": "2025-03-07T21:47:25.773691",
     "exception": false,
     "start_time": "2025-03-07T21:47:25.741810",
     "status": "completed"
    },
    "tags": []
   },
   "outputs": [
    {
     "name": "stdout",
     "output_type": "stream",
     "text": [
      "<class 'pandas.core.frame.DataFrame'>\n",
      "RangeIndex: 891 entries, 0 to 890\n",
      "Data columns (total 12 columns):\n",
      " #   Column       Non-Null Count  Dtype  \n",
      "---  ------       --------------  -----  \n",
      " 0   PassengerId  891 non-null    int64  \n",
      " 1   Survived     891 non-null    int64  \n",
      " 2   Pclass       891 non-null    int64  \n",
      " 3   Name         891 non-null    object \n",
      " 4   Sex          891 non-null    object \n",
      " 5   Age          714 non-null    float64\n",
      " 6   SibSp        891 non-null    int64  \n",
      " 7   Parch        891 non-null    int64  \n",
      " 8   Ticket       891 non-null    object \n",
      " 9   Fare         891 non-null    float64\n",
      " 10  Cabin        204 non-null    object \n",
      " 11  Embarked     889 non-null    object \n",
      "dtypes: float64(2), int64(5), object(5)\n",
      "memory usage: 83.7+ KB\n"
     ]
    }
   ],
   "source": [
    "df.info()"
   ]
  },
  {
   "cell_type": "code",
   "execution_count": 14,
   "id": "23d6ea53",
   "metadata": {
    "execution": {
     "iopub.execute_input": "2025-03-07T21:47:25.798212Z",
     "iopub.status.busy": "2025-03-07T21:47:25.797788Z",
     "iopub.status.idle": "2025-03-07T21:47:25.804101Z",
     "shell.execute_reply": "2025-03-07T21:47:25.802917Z"
    },
    "papermill": {
     "duration": 0.02105,
     "end_time": "2025-03-07T21:47:25.805732",
     "exception": false,
     "start_time": "2025-03-07T21:47:25.784682",
     "status": "completed"
    },
    "tags": []
   },
   "outputs": [
    {
     "name": "stdout",
     "output_type": "stream",
     "text": [
      "PassengerId      int64\n",
      "Survived         int64\n",
      "Pclass           int64\n",
      "Name            object\n",
      "Sex             object\n",
      "Age            float64\n",
      "SibSp            int64\n",
      "Parch            int64\n",
      "Ticket          object\n",
      "Fare           float64\n",
      "Cabin           object\n",
      "Embarked        object\n",
      "dtype: object\n"
     ]
    }
   ],
   "source": [
    "print(df.dtypes)  # Shows the data type of each column\n"
   ]
  },
  {
   "cell_type": "code",
   "execution_count": 15,
   "id": "9a872169",
   "metadata": {
    "execution": {
     "iopub.execute_input": "2025-03-07T21:47:25.829702Z",
     "iopub.status.busy": "2025-03-07T21:47:25.829327Z",
     "iopub.status.idle": "2025-03-07T21:47:25.838770Z",
     "shell.execute_reply": "2025-03-07T21:47:25.837498Z"
    },
    "papermill": {
     "duration": 0.023723,
     "end_time": "2025-03-07T21:47:25.840747",
     "exception": false,
     "start_time": "2025-03-07T21:47:25.817024",
     "status": "completed"
    },
    "tags": []
   },
   "outputs": [
    {
     "name": "stdout",
     "output_type": "stream",
     "text": [
      "PassengerId      int64\n",
      "Sex             object\n",
      "Fare           float64\n",
      "dtype: object\n"
     ]
    }
   ],
   "source": [
    "print(df[['PassengerId', 'Sex', 'Fare']].dtypes)      #Check Data Type of a Specific  3 Column\n"
   ]
  },
  {
   "cell_type": "code",
   "execution_count": 16,
   "id": "d97c625e",
   "metadata": {
    "execution": {
     "iopub.execute_input": "2025-03-07T21:47:25.864613Z",
     "iopub.status.busy": "2025-03-07T21:47:25.864250Z",
     "iopub.status.idle": "2025-03-07T21:47:25.869312Z",
     "shell.execute_reply": "2025-03-07T21:47:25.868210Z"
    },
    "papermill": {
     "duration": 0.018639,
     "end_time": "2025-03-07T21:47:25.871055",
     "exception": false,
     "start_time": "2025-03-07T21:47:25.852416",
     "status": "completed"
    },
    "tags": []
   },
   "outputs": [],
   "source": [
    "df['PassengerId'] = df['PassengerId'].astype(float)    #Convert to Float\n"
   ]
  },
  {
   "cell_type": "code",
   "execution_count": 17,
   "id": "98fdd683",
   "metadata": {
    "execution": {
     "iopub.execute_input": "2025-03-07T21:47:25.894487Z",
     "iopub.status.busy": "2025-03-07T21:47:25.894078Z",
     "iopub.status.idle": "2025-03-07T21:47:25.900511Z",
     "shell.execute_reply": "2025-03-07T21:47:25.899229Z"
    },
    "papermill": {
     "duration": 0.020251,
     "end_time": "2025-03-07T21:47:25.902422",
     "exception": false,
     "start_time": "2025-03-07T21:47:25.882171",
     "status": "completed"
    },
    "tags": []
   },
   "outputs": [
    {
     "name": "stdout",
     "output_type": "stream",
     "text": [
      "PassengerId    float64\n",
      "Survived         int64\n",
      "Pclass           int64\n",
      "Name            object\n",
      "Sex             object\n",
      "Age            float64\n",
      "SibSp            int64\n",
      "Parch            int64\n",
      "Ticket          object\n",
      "Fare           float64\n",
      "Cabin           object\n",
      "Embarked        object\n",
      "dtype: object\n"
     ]
    }
   ],
   "source": [
    "print(df.dtypes)"
   ]
  },
  {
   "cell_type": "code",
   "execution_count": 18,
   "id": "aa854039",
   "metadata": {
    "execution": {
     "iopub.execute_input": "2025-03-07T21:47:25.926347Z",
     "iopub.status.busy": "2025-03-07T21:47:25.925939Z",
     "iopub.status.idle": "2025-03-07T21:47:25.931369Z",
     "shell.execute_reply": "2025-03-07T21:47:25.930180Z"
    },
    "papermill": {
     "duration": 0.019372,
     "end_time": "2025-03-07T21:47:25.933079",
     "exception": false,
     "start_time": "2025-03-07T21:47:25.913707",
     "status": "completed"
    },
    "tags": []
   },
   "outputs": [],
   "source": [
    "df['Sex'] = df['Sex'].astype(bool)           #Convert to Boolean\n"
   ]
  },
  {
   "cell_type": "code",
   "execution_count": 19,
   "id": "14c699c5",
   "metadata": {
    "execution": {
     "iopub.execute_input": "2025-03-07T21:47:25.956951Z",
     "iopub.status.busy": "2025-03-07T21:47:25.956555Z",
     "iopub.status.idle": "2025-03-07T21:47:25.962697Z",
     "shell.execute_reply": "2025-03-07T21:47:25.961560Z"
    },
    "papermill": {
     "duration": 0.020108,
     "end_time": "2025-03-07T21:47:25.964452",
     "exception": false,
     "start_time": "2025-03-07T21:47:25.944344",
     "status": "completed"
    },
    "tags": []
   },
   "outputs": [
    {
     "name": "stdout",
     "output_type": "stream",
     "text": [
      "PassengerId    float64\n",
      "Survived         int64\n",
      "Pclass           int64\n",
      "Name            object\n",
      "Sex               bool\n",
      "Age            float64\n",
      "SibSp            int64\n",
      "Parch            int64\n",
      "Ticket          object\n",
      "Fare           float64\n",
      "Cabin           object\n",
      "Embarked        object\n",
      "dtype: object\n"
     ]
    }
   ],
   "source": [
    "print(df.dtypes)"
   ]
  },
  {
   "cell_type": "code",
   "execution_count": null,
   "id": "7c740334",
   "metadata": {
    "papermill": {
     "duration": 0.011125,
     "end_time": "2025-03-07T21:47:25.986931",
     "exception": false,
     "start_time": "2025-03-07T21:47:25.975806",
     "status": "completed"
    },
    "tags": []
   },
   "outputs": [],
   "source": []
  },
  {
   "cell_type": "markdown",
   "id": "5e32efed",
   "metadata": {
    "papermill": {
     "duration": 0.01109,
     "end_time": "2025-03-07T21:47:26.009188",
     "exception": false,
     "start_time": "2025-03-07T21:47:25.998098",
     "status": "completed"
    },
    "tags": []
   },
   "source": [
    "# 4. find missing values"
   ]
  },
  {
   "cell_type": "code",
   "execution_count": 20,
   "id": "7c0db742",
   "metadata": {
    "execution": {
     "iopub.execute_input": "2025-03-07T21:47:26.032916Z",
     "iopub.status.busy": "2025-03-07T21:47:26.032519Z",
     "iopub.status.idle": "2025-03-07T21:47:26.042349Z",
     "shell.execute_reply": "2025-03-07T21:47:26.041250Z"
    },
    "papermill": {
     "duration": 0.023594,
     "end_time": "2025-03-07T21:47:26.043980",
     "exception": false,
     "start_time": "2025-03-07T21:47:26.020386",
     "status": "completed"
    },
    "tags": []
   },
   "outputs": [
    {
     "data": {
      "text/plain": [
       "PassengerId      0\n",
       "Survived         0\n",
       "Pclass           0\n",
       "Name             0\n",
       "Sex              0\n",
       "Age            177\n",
       "SibSp            0\n",
       "Parch            0\n",
       "Ticket           0\n",
       "Fare             0\n",
       "Cabin          687\n",
       "Embarked         2\n",
       "dtype: int64"
      ]
     },
     "execution_count": 20,
     "metadata": {},
     "output_type": "execute_result"
    }
   ],
   "source": [
    "df.isnull().sum()  #Check for Missing Values in the Entire DataFrame"
   ]
  },
  {
   "cell_type": "code",
   "execution_count": 21,
   "id": "b5113184",
   "metadata": {
    "execution": {
     "iopub.execute_input": "2025-03-07T21:47:26.068132Z",
     "iopub.status.busy": "2025-03-07T21:47:26.067703Z",
     "iopub.status.idle": "2025-03-07T21:47:26.075250Z",
     "shell.execute_reply": "2025-03-07T21:47:26.074147Z"
    },
    "papermill": {
     "duration": 0.021687,
     "end_time": "2025-03-07T21:47:26.077038",
     "exception": false,
     "start_time": "2025-03-07T21:47:26.055351",
     "status": "completed"
    },
    "tags": []
   },
   "outputs": [
    {
     "data": {
      "text/plain": [
       "866"
      ]
     },
     "execution_count": 21,
     "metadata": {},
     "output_type": "execute_result"
    }
   ],
   "source": [
    "df.isna().sum().sum()               #Check for Missing Values in the Whole DataFrame"
   ]
  },
  {
   "cell_type": "code",
   "execution_count": 22,
   "id": "ff144f1f",
   "metadata": {
    "execution": {
     "iopub.execute_input": "2025-03-07T21:47:26.101619Z",
     "iopub.status.busy": "2025-03-07T21:47:26.101290Z",
     "iopub.status.idle": "2025-03-07T21:47:26.118989Z",
     "shell.execute_reply": "2025-03-07T21:47:26.117901Z"
    },
    "papermill": {
     "duration": 0.03203,
     "end_time": "2025-03-07T21:47:26.120611",
     "exception": false,
     "start_time": "2025-03-07T21:47:26.088581",
     "status": "completed"
    },
    "tags": []
   },
   "outputs": [
    {
     "name": "stderr",
     "output_type": "stream",
     "text": [
      "/usr/local/lib/python3.10/dist-packages/pandas/io/formats/format.py:1458: RuntimeWarning: invalid value encountered in greater\n",
      "  has_large_values = (abs_vals > 1e6).any()\n",
      "/usr/local/lib/python3.10/dist-packages/pandas/io/formats/format.py:1459: RuntimeWarning: invalid value encountered in less\n",
      "  has_small_values = ((abs_vals < 10 ** (-self.digits)) & (abs_vals > 0)).any()\n",
      "/usr/local/lib/python3.10/dist-packages/pandas/io/formats/format.py:1459: RuntimeWarning: invalid value encountered in greater\n",
      "  has_small_values = ((abs_vals < 10 ** (-self.digits)) & (abs_vals > 0)).any()\n"
     ]
    },
    {
     "data": {
      "text/html": [
       "<div>\n",
       "<style scoped>\n",
       "    .dataframe tbody tr th:only-of-type {\n",
       "        vertical-align: middle;\n",
       "    }\n",
       "\n",
       "    .dataframe tbody tr th {\n",
       "        vertical-align: top;\n",
       "    }\n",
       "\n",
       "    .dataframe thead th {\n",
       "        text-align: right;\n",
       "    }\n",
       "</style>\n",
       "<table border=\"1\" class=\"dataframe\">\n",
       "  <thead>\n",
       "    <tr style=\"text-align: right;\">\n",
       "      <th></th>\n",
       "      <th>PassengerId</th>\n",
       "      <th>Survived</th>\n",
       "      <th>Pclass</th>\n",
       "      <th>Name</th>\n",
       "      <th>Sex</th>\n",
       "      <th>Age</th>\n",
       "      <th>SibSp</th>\n",
       "      <th>Parch</th>\n",
       "      <th>Ticket</th>\n",
       "      <th>Fare</th>\n",
       "      <th>Cabin</th>\n",
       "      <th>Embarked</th>\n",
       "    </tr>\n",
       "  </thead>\n",
       "  <tbody>\n",
       "    <tr>\n",
       "      <th>611</th>\n",
       "      <td>612.0</td>\n",
       "      <td>0</td>\n",
       "      <td>3</td>\n",
       "      <td>Jardin, Mr. Jose Neto</td>\n",
       "      <td>True</td>\n",
       "      <td>NaN</td>\n",
       "      <td>0</td>\n",
       "      <td>0</td>\n",
       "      <td>SOTON/O.Q. 3101305</td>\n",
       "      <td>7.0500</td>\n",
       "      <td>NaN</td>\n",
       "      <td>S</td>\n",
       "    </tr>\n",
       "    <tr>\n",
       "      <th>65</th>\n",
       "      <td>66.0</td>\n",
       "      <td>1</td>\n",
       "      <td>3</td>\n",
       "      <td>Moubarek, Master. Gerios</td>\n",
       "      <td>True</td>\n",
       "      <td>NaN</td>\n",
       "      <td>1</td>\n",
       "      <td>1</td>\n",
       "      <td>2661</td>\n",
       "      <td>15.2458</td>\n",
       "      <td>NaN</td>\n",
       "      <td>C</td>\n",
       "    </tr>\n",
       "    <tr>\n",
       "      <th>775</th>\n",
       "      <td>776.0</td>\n",
       "      <td>0</td>\n",
       "      <td>3</td>\n",
       "      <td>Myhrman, Mr. Pehr Fabian Oliver Malkolm</td>\n",
       "      <td>True</td>\n",
       "      <td>18.00</td>\n",
       "      <td>0</td>\n",
       "      <td>0</td>\n",
       "      <td>347078</td>\n",
       "      <td>7.7500</td>\n",
       "      <td>NaN</td>\n",
       "      <td>S</td>\n",
       "    </tr>\n",
       "    <tr>\n",
       "      <th>644</th>\n",
       "      <td>645.0</td>\n",
       "      <td>1</td>\n",
       "      <td>3</td>\n",
       "      <td>Baclini, Miss. Eugenie</td>\n",
       "      <td>True</td>\n",
       "      <td>0.75</td>\n",
       "      <td>2</td>\n",
       "      <td>1</td>\n",
       "      <td>2666</td>\n",
       "      <td>19.2583</td>\n",
       "      <td>NaN</td>\n",
       "      <td>C</td>\n",
       "    </tr>\n",
       "    <tr>\n",
       "      <th>693</th>\n",
       "      <td>694.0</td>\n",
       "      <td>0</td>\n",
       "      <td>3</td>\n",
       "      <td>Saad, Mr. Khalil</td>\n",
       "      <td>True</td>\n",
       "      <td>25.00</td>\n",
       "      <td>0</td>\n",
       "      <td>0</td>\n",
       "      <td>2672</td>\n",
       "      <td>7.2250</td>\n",
       "      <td>NaN</td>\n",
       "      <td>C</td>\n",
       "    </tr>\n",
       "  </tbody>\n",
       "</table>\n",
       "</div>"
      ],
      "text/plain": [
       "     PassengerId  Survived  Pclass                                     Name  \\\n",
       "611        612.0         0       3                    Jardin, Mr. Jose Neto   \n",
       "65          66.0         1       3                 Moubarek, Master. Gerios   \n",
       "775        776.0         0       3  Myhrman, Mr. Pehr Fabian Oliver Malkolm   \n",
       "644        645.0         1       3                   Baclini, Miss. Eugenie   \n",
       "693        694.0         0       3                         Saad, Mr. Khalil   \n",
       "\n",
       "      Sex    Age  SibSp  Parch              Ticket     Fare Cabin Embarked  \n",
       "611  True    NaN      0      0  SOTON/O.Q. 3101305   7.0500   NaN        S  \n",
       "65   True    NaN      1      1                2661  15.2458   NaN        C  \n",
       "775  True  18.00      0      0              347078   7.7500   NaN        S  \n",
       "644  True   0.75      2      1                2666  19.2583   NaN        C  \n",
       "693  True  25.00      0      0                2672   7.2250   NaN        C  "
      ]
     },
     "execution_count": 22,
     "metadata": {},
     "output_type": "execute_result"
    }
   ],
   "source": [
    "df[df.isna().any(axis=1)].sample(5)             #Find Rows with Missing Values"
   ]
  },
  {
   "cell_type": "code",
   "execution_count": 23,
   "id": "91ae0c85",
   "metadata": {
    "execution": {
     "iopub.execute_input": "2025-03-07T21:47:26.145903Z",
     "iopub.status.busy": "2025-03-07T21:47:26.145536Z",
     "iopub.status.idle": "2025-03-07T21:47:26.155051Z",
     "shell.execute_reply": "2025-03-07T21:47:26.153931Z"
    },
    "papermill": {
     "duration": 0.023823,
     "end_time": "2025-03-07T21:47:26.156954",
     "exception": false,
     "start_time": "2025-03-07T21:47:26.133131",
     "status": "completed"
    },
    "tags": []
   },
   "outputs": [
    {
     "data": {
      "text/plain": [
       "PassengerId     0.000000\n",
       "Survived        0.000000\n",
       "Pclass          0.000000\n",
       "Name            0.000000\n",
       "Sex             0.000000\n",
       "Age            19.865320\n",
       "SibSp           0.000000\n",
       "Parch           0.000000\n",
       "Ticket          0.000000\n",
       "Fare            0.000000\n",
       "Cabin          77.104377\n",
       "Embarked        0.224467\n",
       "dtype: float64"
      ]
     },
     "execution_count": 23,
     "metadata": {},
     "output_type": "execute_result"
    }
   ],
   "source": [
    "df.isna().mean() * 100          #Check Percentage of Missing Values"
   ]
  },
  {
   "cell_type": "code",
   "execution_count": 24,
   "id": "633aef6b",
   "metadata": {
    "execution": {
     "iopub.execute_input": "2025-03-07T21:47:26.182530Z",
     "iopub.status.busy": "2025-03-07T21:47:26.182183Z",
     "iopub.status.idle": "2025-03-07T21:47:28.792666Z",
     "shell.execute_reply": "2025-03-07T21:47:28.791423Z"
    },
    "papermill": {
     "duration": 2.625539,
     "end_time": "2025-03-07T21:47:28.794971",
     "exception": false,
     "start_time": "2025-03-07T21:47:26.169432",
     "status": "completed"
    },
    "tags": []
   },
   "outputs": [
    {
     "data": {
      "image/png": "[encoded data removed]",
      "text/plain": [
       "<Figure size 2500x1000 with 2 Axes>"
      ]
     },
     "metadata": {},
     "output_type": "display_data"
    },
    {
     "data": {
      "image/png": "[encoded data removed]",
      "text/plain": [
       "<Figure size 640x480 with 1 Axes>"
      ]
     },
     "metadata": {},
     "output_type": "display_data"
    }
   ],
   "source": [
    "import seaborn as sns                            # Visualize missing data\n",
    "import missingno as msno\n",
    "import matplotlib.pyplot as plt\n",
    "\n",
    "msno.matrix(df)                                        \n",
    "plt.show()\n",
    "\n",
    "sns.heatmap(df.isna(), cmap=\"viridis\", cbar=False, yticklabels=False)\n",
    "plt.show()"
   ]
  },
  {
   "cell_type": "code",
   "execution_count": null,
   "id": "d840c5c0",
   "metadata": {
    "papermill": {
     "duration": 0.016429,
     "end_time": "2025-03-07T21:47:28.829341",
     "exception": false,
     "start_time": "2025-03-07T21:47:28.812912",
     "status": "completed"
    },
    "tags": []
   },
   "outputs": [],
   "source": []
  },
  {
   "cell_type": "markdown",
   "id": "a3cf70de",
   "metadata": {
    "papermill": {
     "duration": 0.014251,
     "end_time": "2025-03-07T21:47:28.860038",
     "exception": false,
     "start_time": "2025-03-07T21:47:28.845787",
     "status": "completed"
    },
    "tags": []
   },
   "source": [
    "# 5. How does data looks like mathematically"
   ]
  },
  {
   "cell_type": "code",
   "execution_count": 25,
   "id": "6f868e97",
   "metadata": {
    "execution": {
     "iopub.execute_input": "2025-03-07T21:47:28.888608Z",
     "iopub.status.busy": "2025-03-07T21:47:28.888101Z",
     "iopub.status.idle": "2025-03-07T21:47:28.892557Z",
     "shell.execute_reply": "2025-03-07T21:47:28.891459Z"
    },
    "papermill": {
     "duration": 0.020715,
     "end_time": "2025-03-07T21:47:28.894332",
     "exception": false,
     "start_time": "2025-03-07T21:47:28.873617",
     "status": "completed"
    },
    "tags": []
   },
   "outputs": [],
   "source": [
    "import pandas as pd\n"
   ]
  },
  {
   "cell_type": "code",
   "execution_count": 26,
   "id": "0a899375",
   "metadata": {
    "execution": {
     "iopub.execute_input": "2025-03-07T21:47:28.923093Z",
     "iopub.status.busy": "2025-03-07T21:47:28.922681Z",
     "iopub.status.idle": "2025-03-07T21:47:29.010319Z",
     "shell.execute_reply": "2025-03-07T21:47:29.008336Z"
    },
    "papermill": {
     "duration": 0.104988,
     "end_time": "2025-03-07T21:47:29.013132",
     "exception": false,
     "start_time": "2025-03-07T21:47:28.908144",
     "status": "completed"
    },
    "tags": []
   },
   "outputs": [],
   "source": [
    "dff = pd.read_csv('/kaggle/input/aug-train-dataset/aug_train.csv')"
   ]
  },
  {
   "cell_type": "code",
   "execution_count": 27,
   "id": "6637b703",
   "metadata": {
    "execution": {
     "iopub.execute_input": "2025-03-07T21:47:29.113763Z",
     "iopub.status.busy": "2025-03-07T21:47:29.113283Z",
     "iopub.status.idle": "2025-03-07T21:47:29.135585Z",
     "shell.execute_reply": "2025-03-07T21:47:29.134215Z"
    },
    "papermill": {
     "duration": 0.105828,
     "end_time": "2025-03-07T21:47:29.137378",
     "exception": false,
     "start_time": "2025-03-07T21:47:29.031550",
     "status": "completed"
    },
    "tags": []
   },
   "outputs": [
    {
     "data": {
      "text/html": [
       "<div>\n",
       "<style scoped>\n",
       "    .dataframe tbody tr th:only-of-type {\n",
       "        vertical-align: middle;\n",
       "    }\n",
       "\n",
       "    .dataframe tbody tr th {\n",
       "        vertical-align: top;\n",
       "    }\n",
       "\n",
       "    .dataframe thead th {\n",
       "        text-align: right;\n",
       "    }\n",
       "</style>\n",
       "<table border=\"1\" class=\"dataframe\">\n",
       "  <thead>\n",
       "    <tr style=\"text-align: right;\">\n",
       "      <th></th>\n",
       "      <th>enrollee_id</th>\n",
       "      <th>city</th>\n",
       "      <th>city_development_index</th>\n",
       "      <th>gender</th>\n",
       "      <th>relevent_experience</th>\n",
       "      <th>enrolled_university</th>\n",
       "      <th>education_level</th>\n",
       "      <th>major_discipline</th>\n",
       "      <th>experience</th>\n",
       "      <th>company_size</th>\n",
       "      <th>company_type</th>\n",
       "      <th>last_new_job</th>\n",
       "      <th>training_hours</th>\n",
       "      <th>target</th>\n",
       "    </tr>\n",
       "  </thead>\n",
       "  <tbody>\n",
       "    <tr>\n",
       "      <th>14624</th>\n",
       "      <td>21586</td>\n",
       "      <td>city_16</td>\n",
       "      <td>0.910</td>\n",
       "      <td>Male</td>\n",
       "      <td>No relevent experience</td>\n",
       "      <td>no_enrollment</td>\n",
       "      <td>Graduate</td>\n",
       "      <td>Humanities</td>\n",
       "      <td>1</td>\n",
       "      <td>NaN</td>\n",
       "      <td>NaN</td>\n",
       "      <td>1</td>\n",
       "      <td>42</td>\n",
       "      <td>1.0</td>\n",
       "    </tr>\n",
       "    <tr>\n",
       "      <th>14428</th>\n",
       "      <td>21094</td>\n",
       "      <td>city_37</td>\n",
       "      <td>0.794</td>\n",
       "      <td>NaN</td>\n",
       "      <td>No relevent experience</td>\n",
       "      <td>Full time course</td>\n",
       "      <td>Graduate</td>\n",
       "      <td>STEM</td>\n",
       "      <td>7</td>\n",
       "      <td>NaN</td>\n",
       "      <td>NaN</td>\n",
       "      <td>1</td>\n",
       "      <td>77</td>\n",
       "      <td>1.0</td>\n",
       "    </tr>\n",
       "    <tr>\n",
       "      <th>15877</th>\n",
       "      <td>15931</td>\n",
       "      <td>city_83</td>\n",
       "      <td>0.923</td>\n",
       "      <td>Male</td>\n",
       "      <td>No relevent experience</td>\n",
       "      <td>Full time course</td>\n",
       "      <td>Graduate</td>\n",
       "      <td>STEM</td>\n",
       "      <td>4</td>\n",
       "      <td>NaN</td>\n",
       "      <td>NaN</td>\n",
       "      <td>1</td>\n",
       "      <td>8</td>\n",
       "      <td>1.0</td>\n",
       "    </tr>\n",
       "    <tr>\n",
       "      <th>7830</th>\n",
       "      <td>14108</td>\n",
       "      <td>city_103</td>\n",
       "      <td>0.920</td>\n",
       "      <td>Male</td>\n",
       "      <td>No relevent experience</td>\n",
       "      <td>Full time course</td>\n",
       "      <td>Graduate</td>\n",
       "      <td>STEM</td>\n",
       "      <td>5</td>\n",
       "      <td>NaN</td>\n",
       "      <td>NaN</td>\n",
       "      <td>2</td>\n",
       "      <td>113</td>\n",
       "      <td>1.0</td>\n",
       "    </tr>\n",
       "    <tr>\n",
       "      <th>10303</th>\n",
       "      <td>24719</td>\n",
       "      <td>city_103</td>\n",
       "      <td>0.920</td>\n",
       "      <td>Female</td>\n",
       "      <td>Has relevent experience</td>\n",
       "      <td>no_enrollment</td>\n",
       "      <td>Graduate</td>\n",
       "      <td>STEM</td>\n",
       "      <td>&gt;20</td>\n",
       "      <td>NaN</td>\n",
       "      <td>NaN</td>\n",
       "      <td>&gt;4</td>\n",
       "      <td>42</td>\n",
       "      <td>1.0</td>\n",
       "    </tr>\n",
       "  </tbody>\n",
       "</table>\n",
       "</div>"
      ],
      "text/plain": [
       "       enrollee_id      city  city_development_index  gender  \\\n",
       "14624        21586   city_16                   0.910    Male   \n",
       "14428        21094   city_37                   0.794     NaN   \n",
       "15877        15931   city_83                   0.923    Male   \n",
       "7830         14108  city_103                   0.920    Male   \n",
       "10303        24719  city_103                   0.920  Female   \n",
       "\n",
       "           relevent_experience enrolled_university education_level  \\\n",
       "14624   No relevent experience       no_enrollment        Graduate   \n",
       "14428   No relevent experience    Full time course        Graduate   \n",
       "15877   No relevent experience    Full time course        Graduate   \n",
       "7830    No relevent experience    Full time course        Graduate   \n",
       "10303  Has relevent experience       no_enrollment        Graduate   \n",
       "\n",
       "      major_discipline experience company_size company_type last_new_job  \\\n",
       "14624       Humanities          1          NaN          NaN            1   \n",
       "14428             STEM          7          NaN          NaN            1   \n",
       "15877             STEM          4          NaN          NaN            1   \n",
       "7830              STEM          5          NaN          NaN            2   \n",
       "10303             STEM        >20          NaN          NaN           >4   \n",
       "\n",
       "       training_hours  target  \n",
       "14624              42     1.0  \n",
       "14428              77     1.0  \n",
       "15877               8     1.0  \n",
       "7830              113     1.0  \n",
       "10303              42     1.0  "
      ]
     },
     "execution_count": 27,
     "metadata": {},
     "output_type": "execute_result"
    }
   ],
   "source": [
    "pd.DataFrame(dff).sample(5)"
   ]
  },
  {
   "cell_type": "code",
   "execution_count": 28,
   "id": "8a9ad508",
   "metadata": {
    "execution": {
     "iopub.execute_input": "2025-03-07T21:47:29.166957Z",
     "iopub.status.busy": "2025-03-07T21:47:29.166563Z",
     "iopub.status.idle": "2025-03-07T21:47:29.187413Z",
     "shell.execute_reply": "2025-03-07T21:47:29.186366Z"
    },
    "papermill": {
     "duration": 0.037469,
     "end_time": "2025-03-07T21:47:29.189077",
     "exception": false,
     "start_time": "2025-03-07T21:47:29.151608",
     "status": "completed"
    },
    "tags": []
   },
   "outputs": [
    {
     "data": {
      "text/html": [
       "<div>\n",
       "<style scoped>\n",
       "    .dataframe tbody tr th:only-of-type {\n",
       "        vertical-align: middle;\n",
       "    }\n",
       "\n",
       "    .dataframe tbody tr th {\n",
       "        vertical-align: top;\n",
       "    }\n",
       "\n",
       "    .dataframe thead th {\n",
       "        text-align: right;\n",
       "    }\n",
       "</style>\n",
       "<table border=\"1\" class=\"dataframe\">\n",
       "  <thead>\n",
       "    <tr style=\"text-align: right;\">\n",
       "      <th></th>\n",
       "      <th>enrollee_id</th>\n",
       "      <th>city_development_index</th>\n",
       "      <th>training_hours</th>\n",
       "      <th>target</th>\n",
       "    </tr>\n",
       "  </thead>\n",
       "  <tbody>\n",
       "    <tr>\n",
       "      <th>count</th>\n",
       "      <td>19158.000000</td>\n",
       "      <td>19158.000000</td>\n",
       "      <td>19158.000000</td>\n",
       "      <td>19158.000000</td>\n",
       "    </tr>\n",
       "    <tr>\n",
       "      <th>mean</th>\n",
       "      <td>16875.358179</td>\n",
       "      <td>0.828848</td>\n",
       "      <td>65.366896</td>\n",
       "      <td>0.249348</td>\n",
       "    </tr>\n",
       "    <tr>\n",
       "      <th>std</th>\n",
       "      <td>9616.292592</td>\n",
       "      <td>0.123362</td>\n",
       "      <td>60.058462</td>\n",
       "      <td>0.432647</td>\n",
       "    </tr>\n",
       "    <tr>\n",
       "      <th>min</th>\n",
       "      <td>1.000000</td>\n",
       "      <td>0.448000</td>\n",
       "      <td>1.000000</td>\n",
       "      <td>0.000000</td>\n",
       "    </tr>\n",
       "    <tr>\n",
       "      <th>25%</th>\n",
       "      <td>8554.250000</td>\n",
       "      <td>0.740000</td>\n",
       "      <td>23.000000</td>\n",
       "      <td>0.000000</td>\n",
       "    </tr>\n",
       "    <tr>\n",
       "      <th>50%</th>\n",
       "      <td>16982.500000</td>\n",
       "      <td>0.903000</td>\n",
       "      <td>47.000000</td>\n",
       "      <td>0.000000</td>\n",
       "    </tr>\n",
       "    <tr>\n",
       "      <th>75%</th>\n",
       "      <td>25169.750000</td>\n",
       "      <td>0.920000</td>\n",
       "      <td>88.000000</td>\n",
       "      <td>0.000000</td>\n",
       "    </tr>\n",
       "    <tr>\n",
       "      <th>max</th>\n",
       "      <td>33380.000000</td>\n",
       "      <td>0.949000</td>\n",
       "      <td>336.000000</td>\n",
       "      <td>1.000000</td>\n",
       "    </tr>\n",
       "  </tbody>\n",
       "</table>\n",
       "</div>"
      ],
      "text/plain": [
       "        enrollee_id  city_development_index  training_hours        target\n",
       "count  19158.000000            19158.000000    19158.000000  19158.000000\n",
       "mean   16875.358179                0.828848       65.366896      0.249348\n",
       "std     9616.292592                0.123362       60.058462      0.432647\n",
       "min        1.000000                0.448000        1.000000      0.000000\n",
       "25%     8554.250000                0.740000       23.000000      0.000000\n",
       "50%    16982.500000                0.903000       47.000000      0.000000\n",
       "75%    25169.750000                0.920000       88.000000      0.000000\n",
       "max    33380.000000                0.949000      336.000000      1.000000"
      ]
     },
     "execution_count": 28,
     "metadata": {},
     "output_type": "execute_result"
    }
   ],
   "source": [
    "dff.describe()\n"
   ]
  },
  {
   "cell_type": "code",
   "execution_count": 29,
   "id": "594e38e7",
   "metadata": {
    "execution": {
     "iopub.execute_input": "2025-03-07T21:47:29.220802Z",
     "iopub.status.busy": "2025-03-07T21:47:29.220449Z",
     "iopub.status.idle": "2025-03-07T21:47:29.226335Z",
     "shell.execute_reply": "2025-03-07T21:47:29.225343Z"
    },
    "papermill": {
     "duration": 0.02458,
     "end_time": "2025-03-07T21:47:29.228060",
     "exception": false,
     "start_time": "2025-03-07T21:47:29.203480",
     "status": "completed"
    },
    "tags": []
   },
   "outputs": [],
   "source": [
    "numerical_df = dff.select_dtypes(include=['number']).sample(5)"
   ]
  },
  {
   "cell_type": "code",
   "execution_count": 30,
   "id": "755f8745",
   "metadata": {
    "execution": {
     "iopub.execute_input": "2025-03-07T21:47:29.258438Z",
     "iopub.status.busy": "2025-03-07T21:47:29.258084Z",
     "iopub.status.idle": "2025-03-07T21:47:29.265850Z",
     "shell.execute_reply": "2025-03-07T21:47:29.264599Z"
    },
    "papermill": {
     "duration": 0.025069,
     "end_time": "2025-03-07T21:47:29.267499",
     "exception": false,
     "start_time": "2025-03-07T21:47:29.242430",
     "status": "completed"
    },
    "tags": []
   },
   "outputs": [
    {
     "name": "stdout",
     "output_type": "stream",
     "text": [
      "       enrollee_id  city_development_index  training_hours  target\n",
      "9508         24227                   0.897              45     1.0\n",
      "9620         19519                   0.624              56     0.0\n",
      "5652          1728                   0.910              44     0.0\n",
      "6032         22796                   0.624              64     1.0\n",
      "16640         7709                   0.915              58     0.0\n"
     ]
    }
   ],
   "source": [
    "print(numerical_df)"
   ]
  },
  {
   "cell_type": "code",
   "execution_count": 31,
   "id": "0d666ad6",
   "metadata": {
    "execution": {
     "iopub.execute_input": "2025-03-07T21:47:29.297399Z",
     "iopub.status.busy": "2025-03-07T21:47:29.297021Z",
     "iopub.status.idle": "2025-03-07T21:47:29.303294Z",
     "shell.execute_reply": "2025-03-07T21:47:29.302266Z"
    },
    "papermill": {
     "duration": 0.023219,
     "end_time": "2025-03-07T21:47:29.304968",
     "exception": false,
     "start_time": "2025-03-07T21:47:29.281749",
     "status": "completed"
    },
    "tags": []
   },
   "outputs": [
    {
     "name": "stdout",
     "output_type": "stream",
     "text": [
      "Index(['enrollee_id', 'city_development_index', 'training_hours', 'target'], dtype='object')\n"
     ]
    }
   ],
   "source": [
    "numerical_columns = dff.select_dtypes(include=['number']).columns\n",
    "print(numerical_columns)"
   ]
  },
  {
   "cell_type": "code",
   "execution_count": 32,
   "id": "88c09773",
   "metadata": {
    "execution": {
     "iopub.execute_input": "2025-03-07T21:47:29.335678Z",
     "iopub.status.busy": "2025-03-07T21:47:29.335336Z",
     "iopub.status.idle": "2025-03-07T21:47:29.349026Z",
     "shell.execute_reply": "2025-03-07T21:47:29.347706Z"
    },
    "papermill": {
     "duration": 0.031561,
     "end_time": "2025-03-07T21:47:29.350933",
     "exception": false,
     "start_time": "2025-03-07T21:47:29.319372",
     "status": "completed"
    },
    "tags": []
   },
   "outputs": [
    {
     "name": "stdout",
     "output_type": "stream",
     "text": [
      "Categorical Columns: Index(['city', 'gender', 'relevent_experience', 'enrolled_university',\n",
      "       'education_level', 'major_discipline', 'experience', 'company_size',\n",
      "       'company_type', 'last_new_job'],\n",
      "      dtype='object')\n",
      "           city gender      relevent_experience enrolled_university  \\\n",
      "10849  city_159   Male   No relevent experience    Full time course   \n",
      "9336    city_21    NaN  Has relevent experience       no_enrollment   \n",
      "1514   city_114   Male  Has relevent experience       no_enrollment   \n",
      "13676  city_114   Male   No relevent experience       no_enrollment   \n",
      "14450  city_103    NaN  Has relevent experience       no_enrollment   \n",
      "\n",
      "      education_level major_discipline experience company_size   company_type  \\\n",
      "10849        Graduate             STEM          4          NaN            NaN   \n",
      "9336         Graduate             STEM          7      500-999            NaN   \n",
      "1514          Masters             STEM         12        50-99        Pvt Ltd   \n",
      "13676     High School              NaN          3          NaN            NaN   \n",
      "14450        Graduate             STEM        >20        50-99  Public Sector   \n",
      "\n",
      "      last_new_job  \n",
      "10849        never  \n",
      "9336             2  \n",
      "1514             4  \n",
      "13676        never  \n",
      "14450            1  \n"
     ]
    }
   ],
   "source": [
    "# Selecting only categorical columns\n",
    "categorical_cols = dff.select_dtypes(include=['object', 'category']).columns\n",
    "\n",
    "print(\"Categorical Columns:\", categorical_cols)\n",
    "print(dff[categorical_cols].sample(5))                        # Display categorical data"
   ]
  },
  {
   "cell_type": "code",
   "execution_count": 33,
   "id": "465d94f5",
   "metadata": {
    "execution": {
     "iopub.execute_input": "2025-03-07T21:47:29.381205Z",
     "iopub.status.busy": "2025-03-07T21:47:29.380743Z",
     "iopub.status.idle": "2025-03-07T21:47:29.395646Z",
     "shell.execute_reply": "2025-03-07T21:47:29.394394Z"
    },
    "papermill": {
     "duration": 0.031811,
     "end_time": "2025-03-07T21:47:29.397373",
     "exception": false,
     "start_time": "2025-03-07T21:47:29.365562",
     "status": "completed"
    },
    "tags": []
   },
   "outputs": [
    {
     "name": "stdout",
     "output_type": "stream",
     "text": [
      "Possible Categorical Columns: ['gender', 'relevent_experience', 'enrolled_university', 'education_level', 'major_discipline', 'company_size', 'company_type', 'last_new_job', 'target']\n"
     ]
    }
   ],
   "source": [
    "# Assumes categorical columns have fewer unique values\n",
    "\n",
    "cat_columns = [col for col in dff.columns if dff[col].nunique() < 10]  \n",
    "print(\"Possible Categorical Columns:\", cat_columns)\n"
   ]
  },
  {
   "cell_type": "code",
   "execution_count": null,
   "id": "8dcf54e9",
   "metadata": {
    "papermill": {
     "duration": 0.014379,
     "end_time": "2025-03-07T21:47:29.426269",
     "exception": false,
     "start_time": "2025-03-07T21:47:29.411890",
     "status": "completed"
    },
    "tags": []
   },
   "outputs": [],
   "source": []
  },
  {
   "cell_type": "markdown",
   "id": "39f0b918",
   "metadata": {
    "papermill": {
     "duration": 0.014588,
     "end_time": "2025-03-07T21:47:29.455453",
     "exception": false,
     "start_time": "2025-03-07T21:47:29.440865",
     "status": "completed"
    },
    "tags": []
   },
   "source": [
    "# 6. cheak duplicate values "
   ]
  },
  {
   "cell_type": "code",
   "execution_count": 34,
   "id": "4cfdfa15",
   "metadata": {
    "execution": {
     "iopub.execute_input": "2025-03-07T21:47:29.486048Z",
     "iopub.status.busy": "2025-03-07T21:47:29.485646Z",
     "iopub.status.idle": "2025-03-07T21:47:29.507780Z",
     "shell.execute_reply": "2025-03-07T21:47:29.506635Z"
    },
    "papermill": {
     "duration": 0.039215,
     "end_time": "2025-03-07T21:47:29.509570",
     "exception": false,
     "start_time": "2025-03-07T21:47:29.470355",
     "status": "completed"
    },
    "tags": []
   },
   "outputs": [
    {
     "data": {
      "text/plain": [
       "0        False\n",
       "1        False\n",
       "2        False\n",
       "3        False\n",
       "4        False\n",
       "         ...  \n",
       "19153    False\n",
       "19154    False\n",
       "19155    False\n",
       "19156    False\n",
       "19157    False\n",
       "Length: 19158, dtype: bool"
      ]
     },
     "execution_count": 34,
     "metadata": {},
     "output_type": "execute_result"
    }
   ],
   "source": [
    "dff.duplicated()"
   ]
  },
  {
   "cell_type": "code",
   "execution_count": 35,
   "id": "72e95414",
   "metadata": {
    "execution": {
     "iopub.execute_input": "2025-03-07T21:47:29.541660Z",
     "iopub.status.busy": "2025-03-07T21:47:29.541315Z",
     "iopub.status.idle": "2025-03-07T21:47:29.562617Z",
     "shell.execute_reply": "2025-03-07T21:47:29.561607Z"
    },
    "papermill": {
     "duration": 0.039147,
     "end_time": "2025-03-07T21:47:29.564295",
     "exception": false,
     "start_time": "2025-03-07T21:47:29.525148",
     "status": "completed"
    },
    "tags": []
   },
   "outputs": [
    {
     "data": {
      "text/plain": [
       "0"
      ]
     },
     "execution_count": 35,
     "metadata": {},
     "output_type": "execute_result"
    }
   ],
   "source": [
    "dff.duplicated().sum()  # df = dff.drop_duplicates()   Drop duplicates from all columns\n",
    "                        # df = df.drop_duplicates(keep='last') Drop duplicates last occurrence\n",
    "                        # df = df.drop_duplicates(keep=False) Drop all duplicate rows \n",
    "                        # df = df.drop_duplicates(subset=['column_name']) specific columns\n",
    "                        # df.drop_duplicates(inplace=True) modify the DataFrame in place\n",
    "                        # df = df.drop_duplicates(subset=['col1', 'col2']) based on multiple columns"
   ]
  },
  {
   "cell_type": "markdown",
   "id": "75e48f0a",
   "metadata": {
    "papermill": {
     "duration": 0.014525,
     "end_time": "2025-03-07T21:47:29.593448",
     "exception": false,
     "start_time": "2025-03-07T21:47:29.578923",
     "status": "completed"
    },
    "tags": []
   },
   "source": [
    "# 7. correlation between columns"
   ]
  },
  {
   "cell_type": "code",
   "execution_count": 36,
   "id": "35aa5246",
   "metadata": {
    "execution": {
     "iopub.execute_input": "2025-03-07T21:47:29.625089Z",
     "iopub.status.busy": "2025-03-07T21:47:29.624694Z",
     "iopub.status.idle": "2025-03-07T21:47:29.637064Z",
     "shell.execute_reply": "2025-03-07T21:47:29.635922Z"
    },
    "papermill": {
     "duration": 0.030358,
     "end_time": "2025-03-07T21:47:29.639134",
     "exception": false,
     "start_time": "2025-03-07T21:47:29.608776",
     "status": "completed"
    },
    "tags": []
   },
   "outputs": [],
   "source": [
    "data_frame = pd.read_csv('/kaggle/input/heart-numerical/heart.csv')"
   ]
  },
  {
   "cell_type": "code",
   "execution_count": 37,
   "id": "a4088578",
   "metadata": {
    "execution": {
     "iopub.execute_input": "2025-03-07T21:47:29.670622Z",
     "iopub.status.busy": "2025-03-07T21:47:29.670266Z",
     "iopub.status.idle": "2025-03-07T21:47:29.683607Z",
     "shell.execute_reply": "2025-03-07T21:47:29.682665Z"
    },
    "papermill": {
     "duration": 0.030956,
     "end_time": "2025-03-07T21:47:29.685439",
     "exception": false,
     "start_time": "2025-03-07T21:47:29.654483",
     "status": "completed"
    },
    "tags": []
   },
   "outputs": [
    {
     "data": {
      "text/html": [
       "<div>\n",
       "<style scoped>\n",
       "    .dataframe tbody tr th:only-of-type {\n",
       "        vertical-align: middle;\n",
       "    }\n",
       "\n",
       "    .dataframe tbody tr th {\n",
       "        vertical-align: top;\n",
       "    }\n",
       "\n",
       "    .dataframe thead th {\n",
       "        text-align: right;\n",
       "    }\n",
       "</style>\n",
       "<table border=\"1\" class=\"dataframe\">\n",
       "  <thead>\n",
       "    <tr style=\"text-align: right;\">\n",
       "      <th></th>\n",
       "      <th>Age</th>\n",
       "      <th>Sex</th>\n",
       "      <th>ChestPainType</th>\n",
       "      <th>RestingBP</th>\n",
       "      <th>Cholesterol</th>\n",
       "      <th>FastingBS</th>\n",
       "      <th>RestingECG</th>\n",
       "      <th>MaxHR</th>\n",
       "      <th>ExerciseAngina</th>\n",
       "      <th>Oldpeak</th>\n",
       "      <th>ST_Slope</th>\n",
       "      <th>HeartDisease</th>\n",
       "    </tr>\n",
       "  </thead>\n",
       "  <tbody>\n",
       "    <tr>\n",
       "      <th>339</th>\n",
       "      <td>64</td>\n",
       "      <td>F</td>\n",
       "      <td>ASY</td>\n",
       "      <td>95</td>\n",
       "      <td>0</td>\n",
       "      <td>1</td>\n",
       "      <td>Normal</td>\n",
       "      <td>145</td>\n",
       "      <td>N</td>\n",
       "      <td>1.1</td>\n",
       "      <td>Down</td>\n",
       "      <td>1</td>\n",
       "    </tr>\n",
       "    <tr>\n",
       "      <th>408</th>\n",
       "      <td>59</td>\n",
       "      <td>M</td>\n",
       "      <td>ASY</td>\n",
       "      <td>110</td>\n",
       "      <td>0</td>\n",
       "      <td>1</td>\n",
       "      <td>Normal</td>\n",
       "      <td>94</td>\n",
       "      <td>N</td>\n",
       "      <td>0.0</td>\n",
       "      <td>Flat</td>\n",
       "      <td>1</td>\n",
       "    </tr>\n",
       "    <tr>\n",
       "      <th>878</th>\n",
       "      <td>49</td>\n",
       "      <td>M</td>\n",
       "      <td>ATA</td>\n",
       "      <td>130</td>\n",
       "      <td>266</td>\n",
       "      <td>0</td>\n",
       "      <td>Normal</td>\n",
       "      <td>171</td>\n",
       "      <td>N</td>\n",
       "      <td>0.6</td>\n",
       "      <td>Up</td>\n",
       "      <td>0</td>\n",
       "    </tr>\n",
       "    <tr>\n",
       "      <th>450</th>\n",
       "      <td>52</td>\n",
       "      <td>M</td>\n",
       "      <td>NAP</td>\n",
       "      <td>122</td>\n",
       "      <td>0</td>\n",
       "      <td>0</td>\n",
       "      <td>Normal</td>\n",
       "      <td>110</td>\n",
       "      <td>Y</td>\n",
       "      <td>2.0</td>\n",
       "      <td>Down</td>\n",
       "      <td>1</td>\n",
       "    </tr>\n",
       "    <tr>\n",
       "      <th>720</th>\n",
       "      <td>48</td>\n",
       "      <td>M</td>\n",
       "      <td>ASY</td>\n",
       "      <td>124</td>\n",
       "      <td>274</td>\n",
       "      <td>0</td>\n",
       "      <td>LVH</td>\n",
       "      <td>166</td>\n",
       "      <td>N</td>\n",
       "      <td>0.5</td>\n",
       "      <td>Flat</td>\n",
       "      <td>1</td>\n",
       "    </tr>\n",
       "  </tbody>\n",
       "</table>\n",
       "</div>"
      ],
      "text/plain": [
       "     Age Sex ChestPainType  RestingBP  Cholesterol  FastingBS RestingECG  \\\n",
       "339   64   F           ASY         95            0          1     Normal   \n",
       "408   59   M           ASY        110            0          1     Normal   \n",
       "878   49   M           ATA        130          266          0     Normal   \n",
       "450   52   M           NAP        122            0          0     Normal   \n",
       "720   48   M           ASY        124          274          0        LVH   \n",
       "\n",
       "     MaxHR ExerciseAngina  Oldpeak ST_Slope  HeartDisease  \n",
       "339    145              N      1.1     Down             1  \n",
       "408     94              N      0.0     Flat             1  \n",
       "878    171              N      0.6       Up             0  \n",
       "450    110              Y      2.0     Down             1  \n",
       "720    166              N      0.5     Flat             1  "
      ]
     },
     "execution_count": 37,
     "metadata": {},
     "output_type": "execute_result"
    }
   ],
   "source": [
    "data_frame.sample(5)"
   ]
  },
  {
   "cell_type": "code",
   "execution_count": 38,
   "id": "372fa5f1",
   "metadata": {
    "execution": {
     "iopub.execute_input": "2025-03-07T21:47:29.716842Z",
     "iopub.status.busy": "2025-03-07T21:47:29.716483Z",
     "iopub.status.idle": "2025-03-07T21:47:29.722125Z",
     "shell.execute_reply": "2025-03-07T21:47:29.720984Z"
    },
    "papermill": {
     "duration": 0.023383,
     "end_time": "2025-03-07T21:47:29.723877",
     "exception": false,
     "start_time": "2025-03-07T21:47:29.700494",
     "status": "completed"
    },
    "tags": []
   },
   "outputs": [],
   "source": [
    "df = data_frame.drop(['Sex', 'ChestPainType','RestingECG','ExerciseAngina','ST_Slope'], axis=1)\n"
   ]
  },
  {
   "cell_type": "code",
   "execution_count": 39,
   "id": "b4da00bf",
   "metadata": {
    "execution": {
     "iopub.execute_input": "2025-03-07T21:47:29.755557Z",
     "iopub.status.busy": "2025-03-07T21:47:29.755211Z",
     "iopub.status.idle": "2025-03-07T21:47:29.766318Z",
     "shell.execute_reply": "2025-03-07T21:47:29.765336Z"
    },
    "papermill": {
     "duration": 0.028993,
     "end_time": "2025-03-07T21:47:29.767790",
     "exception": false,
     "start_time": "2025-03-07T21:47:29.738797",
     "status": "completed"
    },
    "tags": []
   },
   "outputs": [
    {
     "data": {
      "text/html": [
       "<div>\n",
       "<style scoped>\n",
       "    .dataframe tbody tr th:only-of-type {\n",
       "        vertical-align: middle;\n",
       "    }\n",
       "\n",
       "    .dataframe tbody tr th {\n",
       "        vertical-align: top;\n",
       "    }\n",
       "\n",
       "    .dataframe thead th {\n",
       "        text-align: right;\n",
       "    }\n",
       "</style>\n",
       "<table border=\"1\" class=\"dataframe\">\n",
       "  <thead>\n",
       "    <tr style=\"text-align: right;\">\n",
       "      <th></th>\n",
       "      <th>Age</th>\n",
       "      <th>RestingBP</th>\n",
       "      <th>Cholesterol</th>\n",
       "      <th>FastingBS</th>\n",
       "      <th>MaxHR</th>\n",
       "      <th>Oldpeak</th>\n",
       "      <th>HeartDisease</th>\n",
       "    </tr>\n",
       "  </thead>\n",
       "  <tbody>\n",
       "    <tr>\n",
       "      <th>878</th>\n",
       "      <td>49</td>\n",
       "      <td>130</td>\n",
       "      <td>266</td>\n",
       "      <td>0</td>\n",
       "      <td>171</td>\n",
       "      <td>0.6</td>\n",
       "      <td>0</td>\n",
       "    </tr>\n",
       "    <tr>\n",
       "      <th>91</th>\n",
       "      <td>39</td>\n",
       "      <td>130</td>\n",
       "      <td>307</td>\n",
       "      <td>0</td>\n",
       "      <td>140</td>\n",
       "      <td>0.0</td>\n",
       "      <td>0</td>\n",
       "    </tr>\n",
       "    <tr>\n",
       "      <th>345</th>\n",
       "      <td>69</td>\n",
       "      <td>135</td>\n",
       "      <td>0</td>\n",
       "      <td>0</td>\n",
       "      <td>130</td>\n",
       "      <td>0.0</td>\n",
       "      <td>1</td>\n",
       "    </tr>\n",
       "    <tr>\n",
       "      <th>24</th>\n",
       "      <td>40</td>\n",
       "      <td>130</td>\n",
       "      <td>215</td>\n",
       "      <td>0</td>\n",
       "      <td>138</td>\n",
       "      <td>0.0</td>\n",
       "      <td>0</td>\n",
       "    </tr>\n",
       "    <tr>\n",
       "      <th>513</th>\n",
       "      <td>62</td>\n",
       "      <td>112</td>\n",
       "      <td>258</td>\n",
       "      <td>0</td>\n",
       "      <td>150</td>\n",
       "      <td>1.3</td>\n",
       "      <td>1</td>\n",
       "    </tr>\n",
       "  </tbody>\n",
       "</table>\n",
       "</div>"
      ],
      "text/plain": [
       "     Age  RestingBP  Cholesterol  FastingBS  MaxHR  Oldpeak  HeartDisease\n",
       "878   49        130          266          0    171      0.6             0\n",
       "91    39        130          307          0    140      0.0             0\n",
       "345   69        135            0          0    130      0.0             1\n",
       "24    40        130          215          0    138      0.0             0\n",
       "513   62        112          258          0    150      1.3             1"
      ]
     },
     "execution_count": 39,
     "metadata": {},
     "output_type": "execute_result"
    }
   ],
   "source": [
    "df.sample(5)"
   ]
  },
  {
   "cell_type": "code",
   "execution_count": 40,
   "id": "93ae7e39",
   "metadata": {
    "execution": {
     "iopub.execute_input": "2025-03-07T21:47:29.800180Z",
     "iopub.status.busy": "2025-03-07T21:47:29.799748Z",
     "iopub.status.idle": "2025-03-07T21:47:29.816623Z",
     "shell.execute_reply": "2025-03-07T21:47:29.815625Z"
    },
    "papermill": {
     "duration": 0.034607,
     "end_time": "2025-03-07T21:47:29.818266",
     "exception": false,
     "start_time": "2025-03-07T21:47:29.783659",
     "status": "completed"
    },
    "tags": []
   },
   "outputs": [
    {
     "data": {
      "text/html": [
       "<div>\n",
       "<style scoped>\n",
       "    .dataframe tbody tr th:only-of-type {\n",
       "        vertical-align: middle;\n",
       "    }\n",
       "\n",
       "    .dataframe tbody tr th {\n",
       "        vertical-align: top;\n",
       "    }\n",
       "\n",
       "    .dataframe thead th {\n",
       "        text-align: right;\n",
       "    }\n",
       "</style>\n",
       "<table border=\"1\" class=\"dataframe\">\n",
       "  <thead>\n",
       "    <tr style=\"text-align: right;\">\n",
       "      <th></th>\n",
       "      <th>Age</th>\n",
       "      <th>RestingBP</th>\n",
       "      <th>Cholesterol</th>\n",
       "      <th>FastingBS</th>\n",
       "      <th>MaxHR</th>\n",
       "      <th>Oldpeak</th>\n",
       "      <th>HeartDisease</th>\n",
       "    </tr>\n",
       "  </thead>\n",
       "  <tbody>\n",
       "    <tr>\n",
       "      <th>Age</th>\n",
       "      <td>1.000000</td>\n",
       "      <td>0.254399</td>\n",
       "      <td>-0.095282</td>\n",
       "      <td>0.198039</td>\n",
       "      <td>-0.382045</td>\n",
       "      <td>0.258612</td>\n",
       "      <td>0.282039</td>\n",
       "    </tr>\n",
       "    <tr>\n",
       "      <th>RestingBP</th>\n",
       "      <td>0.254399</td>\n",
       "      <td>1.000000</td>\n",
       "      <td>0.100893</td>\n",
       "      <td>0.070193</td>\n",
       "      <td>-0.112135</td>\n",
       "      <td>0.164803</td>\n",
       "      <td>0.107589</td>\n",
       "    </tr>\n",
       "    <tr>\n",
       "      <th>Cholesterol</th>\n",
       "      <td>-0.095282</td>\n",
       "      <td>0.100893</td>\n",
       "      <td>1.000000</td>\n",
       "      <td>-0.260974</td>\n",
       "      <td>0.235792</td>\n",
       "      <td>0.050148</td>\n",
       "      <td>-0.232741</td>\n",
       "    </tr>\n",
       "    <tr>\n",
       "      <th>FastingBS</th>\n",
       "      <td>0.198039</td>\n",
       "      <td>0.070193</td>\n",
       "      <td>-0.260974</td>\n",
       "      <td>1.000000</td>\n",
       "      <td>-0.131438</td>\n",
       "      <td>0.052698</td>\n",
       "      <td>0.267291</td>\n",
       "    </tr>\n",
       "    <tr>\n",
       "      <th>MaxHR</th>\n",
       "      <td>-0.382045</td>\n",
       "      <td>-0.112135</td>\n",
       "      <td>0.235792</td>\n",
       "      <td>-0.131438</td>\n",
       "      <td>1.000000</td>\n",
       "      <td>-0.160691</td>\n",
       "      <td>-0.400421</td>\n",
       "    </tr>\n",
       "    <tr>\n",
       "      <th>Oldpeak</th>\n",
       "      <td>0.258612</td>\n",
       "      <td>0.164803</td>\n",
       "      <td>0.050148</td>\n",
       "      <td>0.052698</td>\n",
       "      <td>-0.160691</td>\n",
       "      <td>1.000000</td>\n",
       "      <td>0.403951</td>\n",
       "    </tr>\n",
       "    <tr>\n",
       "      <th>HeartDisease</th>\n",
       "      <td>0.282039</td>\n",
       "      <td>0.107589</td>\n",
       "      <td>-0.232741</td>\n",
       "      <td>0.267291</td>\n",
       "      <td>-0.400421</td>\n",
       "      <td>0.403951</td>\n",
       "      <td>1.000000</td>\n",
       "    </tr>\n",
       "  </tbody>\n",
       "</table>\n",
       "</div>"
      ],
      "text/plain": [
       "                   Age  RestingBP  Cholesterol  FastingBS     MaxHR   Oldpeak  \\\n",
       "Age           1.000000   0.254399    -0.095282   0.198039 -0.382045  0.258612   \n",
       "RestingBP     0.254399   1.000000     0.100893   0.070193 -0.112135  0.164803   \n",
       "Cholesterol  -0.095282   0.100893     1.000000  -0.260974  0.235792  0.050148   \n",
       "FastingBS     0.198039   0.070193    -0.260974   1.000000 -0.131438  0.052698   \n",
       "MaxHR        -0.382045  -0.112135     0.235792  -0.131438  1.000000 -0.160691   \n",
       "Oldpeak       0.258612   0.164803     0.050148   0.052698 -0.160691  1.000000   \n",
       "HeartDisease  0.282039   0.107589    -0.232741   0.267291 -0.400421  0.403951   \n",
       "\n",
       "              HeartDisease  \n",
       "Age               0.282039  \n",
       "RestingBP         0.107589  \n",
       "Cholesterol      -0.232741  \n",
       "FastingBS         0.267291  \n",
       "MaxHR            -0.400421  \n",
       "Oldpeak           0.403951  \n",
       "HeartDisease      1.000000  "
      ]
     },
     "execution_count": 40,
     "metadata": {},
     "output_type": "execute_result"
    }
   ],
   "source": [
    "df.corr()"
   ]
  },
  {
   "cell_type": "code",
   "execution_count": 41,
   "id": "7d651966",
   "metadata": {
    "execution": {
     "iopub.execute_input": "2025-03-07T21:47:29.850972Z",
     "iopub.status.busy": "2025-03-07T21:47:29.850534Z",
     "iopub.status.idle": "2025-03-07T21:47:29.858344Z",
     "shell.execute_reply": "2025-03-07T21:47:29.857436Z"
    },
    "papermill": {
     "duration": 0.026365,
     "end_time": "2025-03-07T21:47:29.860426",
     "exception": false,
     "start_time": "2025-03-07T21:47:29.834061",
     "status": "completed"
    },
    "tags": []
   },
   "outputs": [
    {
     "data": {
      "text/plain": [
       "Age             0.254399\n",
       "RestingBP       1.000000\n",
       "Cholesterol     0.100893\n",
       "FastingBS       0.070193\n",
       "MaxHR          -0.112135\n",
       "Oldpeak         0.164803\n",
       "HeartDisease    0.107589\n",
       "Name: RestingBP, dtype: float64"
      ]
     },
     "execution_count": 41,
     "metadata": {},
     "output_type": "execute_result"
    }
   ],
   "source": [
    "df.corr()['RestingBP']"
   ]
  },
  {
   "cell_type": "code",
   "execution_count": 42,
   "id": "94de2bbf",
   "metadata": {
    "execution": {
     "iopub.execute_input": "2025-03-07T21:47:29.893942Z",
     "iopub.status.busy": "2025-03-07T21:47:29.893543Z",
     "iopub.status.idle": "2025-03-07T21:47:29.905128Z",
     "shell.execute_reply": "2025-03-07T21:47:29.903980Z"
    },
    "papermill": {
     "duration": 0.029928,
     "end_time": "2025-03-07T21:47:29.907108",
     "exception": false,
     "start_time": "2025-03-07T21:47:29.877180",
     "status": "completed"
    },
    "tags": []
   },
   "outputs": [
    {
     "data": {
      "text/html": [
       "<div>\n",
       "<style scoped>\n",
       "    .dataframe tbody tr th:only-of-type {\n",
       "        vertical-align: middle;\n",
       "    }\n",
       "\n",
       "    .dataframe tbody tr th {\n",
       "        vertical-align: top;\n",
       "    }\n",
       "\n",
       "    .dataframe thead th {\n",
       "        text-align: right;\n",
       "    }\n",
       "</style>\n",
       "<table border=\"1\" class=\"dataframe\">\n",
       "  <thead>\n",
       "    <tr style=\"text-align: right;\">\n",
       "      <th></th>\n",
       "      <th>Cholesterol</th>\n",
       "      <th>FastingBS</th>\n",
       "      <th>HeartDisease</th>\n",
       "    </tr>\n",
       "  </thead>\n",
       "  <tbody>\n",
       "    <tr>\n",
       "      <th>Cholesterol</th>\n",
       "      <td>1.000000</td>\n",
       "      <td>-0.260974</td>\n",
       "      <td>-0.232741</td>\n",
       "    </tr>\n",
       "    <tr>\n",
       "      <th>FastingBS</th>\n",
       "      <td>-0.260974</td>\n",
       "      <td>1.000000</td>\n",
       "      <td>0.267291</td>\n",
       "    </tr>\n",
       "    <tr>\n",
       "      <th>HeartDisease</th>\n",
       "      <td>-0.232741</td>\n",
       "      <td>0.267291</td>\n",
       "      <td>1.000000</td>\n",
       "    </tr>\n",
       "  </tbody>\n",
       "</table>\n",
       "</div>"
      ],
      "text/plain": [
       "              Cholesterol  FastingBS  HeartDisease\n",
       "Cholesterol      1.000000  -0.260974     -0.232741\n",
       "FastingBS       -0.260974   1.000000      0.267291\n",
       "HeartDisease    -0.232741   0.267291      1.000000"
      ]
     },
     "execution_count": 42,
     "metadata": {},
     "output_type": "execute_result"
    }
   ],
   "source": [
    "df[['Cholesterol','FastingBS', 'HeartDisease']].corr()\n"
   ]
  },
  {
   "cell_type": "code",
   "execution_count": 43,
   "id": "4071c28a",
   "metadata": {
    "execution": {
     "iopub.execute_input": "2025-03-07T21:47:29.940575Z",
     "iopub.status.busy": "2025-03-07T21:47:29.940219Z",
     "iopub.status.idle": "2025-03-07T21:47:29.976694Z",
     "shell.execute_reply": "2025-03-07T21:47:29.975611Z"
    },
    "papermill": {
     "duration": 0.055568,
     "end_time": "2025-03-07T21:47:29.978653",
     "exception": false,
     "start_time": "2025-03-07T21:47:29.923085",
     "status": "completed"
    },
    "tags": []
   },
   "outputs": [
    {
     "data": {
      "text/html": [
       "<div>\n",
       "<style scoped>\n",
       "    .dataframe tbody tr th:only-of-type {\n",
       "        vertical-align: middle;\n",
       "    }\n",
       "\n",
       "    .dataframe tbody tr th {\n",
       "        vertical-align: top;\n",
       "    }\n",
       "\n",
       "    .dataframe thead th {\n",
       "        text-align: right;\n",
       "    }\n",
       "</style>\n",
       "<table border=\"1\" class=\"dataframe\">\n",
       "  <thead>\n",
       "    <tr style=\"text-align: right;\">\n",
       "      <th></th>\n",
       "      <th>Age</th>\n",
       "      <th>RestingBP</th>\n",
       "      <th>Cholesterol</th>\n",
       "      <th>FastingBS</th>\n",
       "      <th>MaxHR</th>\n",
       "      <th>Oldpeak</th>\n",
       "      <th>HeartDisease</th>\n",
       "    </tr>\n",
       "  </thead>\n",
       "  <tbody>\n",
       "    <tr>\n",
       "      <th>Age</th>\n",
       "      <td>1.000000</td>\n",
       "      <td>0.279390</td>\n",
       "      <td>-0.047156</td>\n",
       "      <td>0.201015</td>\n",
       "      <td>-0.365025</td>\n",
       "      <td>0.298250</td>\n",
       "      <td>0.289576</td>\n",
       "    </tr>\n",
       "    <tr>\n",
       "      <th>RestingBP</th>\n",
       "      <td>0.279390</td>\n",
       "      <td>1.000000</td>\n",
       "      <td>0.109481</td>\n",
       "      <td>0.066019</td>\n",
       "      <td>-0.107566</td>\n",
       "      <td>0.175313</td>\n",
       "      <td>0.113866</td>\n",
       "    </tr>\n",
       "    <tr>\n",
       "      <th>Cholesterol</th>\n",
       "      <td>-0.047156</td>\n",
       "      <td>0.109481</td>\n",
       "      <td>1.000000</td>\n",
       "      <td>-0.192871</td>\n",
       "      <td>0.183900</td>\n",
       "      <td>0.051723</td>\n",
       "      <td>-0.139873</td>\n",
       "    </tr>\n",
       "    <tr>\n",
       "      <th>FastingBS</th>\n",
       "      <td>0.201015</td>\n",
       "      <td>0.066019</td>\n",
       "      <td>-0.192871</td>\n",
       "      <td>1.000000</td>\n",
       "      <td>-0.124527</td>\n",
       "      <td>0.098968</td>\n",
       "      <td>0.267291</td>\n",
       "    </tr>\n",
       "    <tr>\n",
       "      <th>MaxHR</th>\n",
       "      <td>-0.365025</td>\n",
       "      <td>-0.107566</td>\n",
       "      <td>0.183900</td>\n",
       "      <td>-0.124527</td>\n",
       "      <td>1.000000</td>\n",
       "      <td>-0.205113</td>\n",
       "      <td>-0.404827</td>\n",
       "    </tr>\n",
       "    <tr>\n",
       "      <th>Oldpeak</th>\n",
       "      <td>0.298250</td>\n",
       "      <td>0.175313</td>\n",
       "      <td>0.051723</td>\n",
       "      <td>0.098968</td>\n",
       "      <td>-0.205113</td>\n",
       "      <td>1.000000</td>\n",
       "      <td>0.419046</td>\n",
       "    </tr>\n",
       "    <tr>\n",
       "      <th>HeartDisease</th>\n",
       "      <td>0.289576</td>\n",
       "      <td>0.113866</td>\n",
       "      <td>-0.139873</td>\n",
       "      <td>0.267291</td>\n",
       "      <td>-0.404827</td>\n",
       "      <td>0.419046</td>\n",
       "      <td>1.000000</td>\n",
       "    </tr>\n",
       "  </tbody>\n",
       "</table>\n",
       "</div>"
      ],
      "text/plain": [
       "                   Age  RestingBP  Cholesterol  FastingBS     MaxHR   Oldpeak  \\\n",
       "Age           1.000000   0.279390    -0.047156   0.201015 -0.365025  0.298250   \n",
       "RestingBP     0.279390   1.000000     0.109481   0.066019 -0.107566  0.175313   \n",
       "Cholesterol  -0.047156   0.109481     1.000000  -0.192871  0.183900  0.051723   \n",
       "FastingBS     0.201015   0.066019    -0.192871   1.000000 -0.124527  0.098968   \n",
       "MaxHR        -0.365025  -0.107566     0.183900  -0.124527  1.000000 -0.205113   \n",
       "Oldpeak       0.298250   0.175313     0.051723   0.098968 -0.205113  1.000000   \n",
       "HeartDisease  0.289576   0.113866    -0.139873   0.267291 -0.404827  0.419046   \n",
       "\n",
       "              HeartDisease  \n",
       "Age               0.289576  \n",
       "RestingBP         0.113866  \n",
       "Cholesterol      -0.139873  \n",
       "FastingBS         0.267291  \n",
       "MaxHR            -0.404827  \n",
       "Oldpeak           0.419046  \n",
       "HeartDisease      1.000000  "
      ]
     },
     "execution_count": 43,
     "metadata": {},
     "output_type": "execute_result"
    }
   ],
   "source": [
    "df.corr(method='pearson')   # Default: Measures linear relationship\n",
    "df.corr(method='kendall')   # Measures ordinal (rank-based) correlation\n",
    "df.corr(method='spearman')  # Measures monotonic relationship\n"
   ]
  },
  {
   "cell_type": "code",
   "execution_count": 44,
   "id": "664682c4",
   "metadata": {
    "execution": {
     "iopub.execute_input": "2025-03-07T21:47:30.014310Z",
     "iopub.status.busy": "2025-03-07T21:47:30.013903Z",
     "iopub.status.idle": "2025-03-07T21:47:30.374513Z",
     "shell.execute_reply": "2025-03-07T21:47:30.373388Z"
    },
    "papermill": {
     "duration": 0.38006,
     "end_time": "2025-03-07T21:47:30.376637",
     "exception": false,
     "start_time": "2025-03-07T21:47:29.996577",
     "status": "completed"
    },
    "tags": []
   },
   "outputs": [
    {
     "data": {
      "image/png": "[encoded data removed]",
      "text/plain": [
       "<Figure size 800x600 with 2 Axes>"
      ]
     },
     "metadata": {},
     "output_type": "display_data"
    }
   ],
   "source": [
    "import seaborn as sns\n",
    "import matplotlib.pyplot as plt\n",
    "\n",
    "plt.figure(figsize=(8,6))\n",
    "sns.heatmap(df.corr(), annot=True, cmap='coolwarm', fmt=\".2f\")\n",
    "plt.show()\n"
   ]
  },
  {
   "cell_type": "code",
   "execution_count": null,
   "id": "762e8385",
   "metadata": {
    "papermill": {
     "duration": 0.01661,
     "end_time": "2025-03-07T21:47:30.410605",
     "exception": false,
     "start_time": "2025-03-07T21:47:30.393995",
     "status": "completed"
    },
    "tags": []
   },
   "outputs": [],
   "source": []
  }
 ],
 "metadata": {
  "kaggle": {
   "accelerator": "none",
   "dataSources": [
    {
     "datasetId": 6814995,
     "sourceId": 10954940,
     "sourceType": "datasetVersion"
    },
    {
     "datasetId": 6815506,
     "sourceId": 10955627,
     "sourceType": "datasetVersion"
    },
    {
     "datasetId": 6815650,
     "sourceId": 10955825,
     "sourceType": "datasetVersion"
    },
    {
     "datasetId": 6815674,
     "sourceId": 10955854,
     "sourceType": "datasetVersion"
    }
   ],
   "dockerImageVersionId": 30918,
   "isGpuEnabled": false,
   "isInternetEnabled": true,
   "language": "python",
   "sourceType": "notebook"
  },
  "kernelspec": {
   "display_name": "Python 3",
   "language": "python",
   "name": "python3"
  },
  "language_info": {
   "codemirror_mode": {
    "name": "ipython",
    "version": 3
   },
   "file_extension": ".py",
   "mimetype": "text/x-python",
   "name": "python",
   "nbconvert_exporter": "python",
   "pygments_lexer": "ipython3",
   "version": "3.10.12"
  },
  "papermill": {
   "default_parameters": {},
   "duration": 9.938279,
   "end_time": "2025-03-07T21:47:31.147958",
   "environment_variables": {},
   "exception": null,
   "input_path": "__notebook__.ipynb",
   "output_path": "__notebook__.ipynb",
   "parameters": {},
   "start_time": "2025-03-07T21:47:21.209679",
   "version": "2.6.0"
  }
 },
 "nbformat": 4,
 "nbformat_minor": 5
}
