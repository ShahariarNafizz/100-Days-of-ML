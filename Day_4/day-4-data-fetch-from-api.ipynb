{
 "cells": [
  {
   "cell_type": "code",
   "execution_count": 1,
   "id": "0ff65c8a",
   "metadata": {
    "execution": {
     "iopub.execute_input": "2025-03-06T21:14:19.504821Z",
     "iopub.status.busy": "2025-03-06T21:14:19.504412Z",
     "iopub.status.idle": "2025-03-06T21:14:20.576052Z",
     "shell.execute_reply": "2025-03-06T21:14:20.574916Z"
    },
    "papermill": {
     "duration": 1.077876,
     "end_time": "2025-03-06T21:14:20.577918",
     "exception": false,
     "start_time": "2025-03-06T21:14:19.500042",
     "status": "completed"
    },
    "tags": []
   },
   "outputs": [],
   "source": [
    "import pandas as pd\n",
    "import requests"
   ]
  },
  {
   "cell_type": "code",
   "execution_count": 2,
   "id": "79d72587",
   "metadata": {
    "execution": {
     "iopub.execute_input": "2025-03-06T21:14:20.584768Z",
     "iopub.status.busy": "2025-03-06T21:14:20.584236Z",
     "iopub.status.idle": "2025-03-06T21:14:20.677809Z",
     "shell.execute_reply": "2025-03-06T21:14:20.676782Z"
    },
    "papermill": {
     "duration": 0.098789,
     "end_time": "2025-03-06T21:14:20.679818",
     "exception": false,
     "start_time": "2025-03-06T21:14:20.581029",
     "status": "completed"
    },
    "tags": []
   },
   "outputs": [],
   "source": [
    "response = requests.get('https://api.themoviedb.org/3/movie/top_rated?api_key=8265bd1679663a7ea12ac168da84d2e8&language=en-US&page=1')"
   ]
  },
  {
   "cell_type": "code",
   "execution_count": 3,
   "id": "082768ef",
   "metadata": {
    "execution": {
     "iopub.execute_input": "2025-03-06T21:14:20.686308Z",
     "iopub.status.busy": "2025-03-06T21:14:20.686003Z",
     "iopub.status.idle": "2025-03-06T21:14:20.709194Z",
     "shell.execute_reply": "2025-03-06T21:14:20.708175Z"
    },
    "papermill": {
     "duration": 0.028448,
     "end_time": "2025-03-06T21:14:20.711089",
     "exception": false,
     "start_time": "2025-03-06T21:14:20.682641",
     "status": "completed"
    },
    "tags": []
   },
   "outputs": [],
   "source": [
    "temp_df = pd.DataFrame(response.json()['results'])[['id','title','overview','release_date','popularity','vote_average','vote_count']]"
   ]
  },
  {
   "cell_type": "code",
   "execution_count": 4,
   "id": "bac75fd3",
   "metadata": {
    "execution": {
     "iopub.execute_input": "2025-03-06T21:14:20.717651Z",
     "iopub.status.busy": "2025-03-06T21:14:20.717200Z",
     "iopub.status.idle": "2025-03-06T21:14:20.745802Z",
     "shell.execute_reply": "2025-03-06T21:14:20.744744Z"
    },
    "papermill": {
     "duration": 0.033744,
     "end_time": "2025-03-06T21:14:20.747587",
     "exception": false,
     "start_time": "2025-03-06T21:14:20.713843",
     "status": "completed"
    },
    "tags": []
   },
   "outputs": [
    {
     "data": {
      "text/html": [
       "<div>\n",
       "<style scoped>\n",
       "    .dataframe tbody tr th:only-of-type {\n",
       "        vertical-align: middle;\n",
       "    }\n",
       "\n",
       "    .dataframe tbody tr th {\n",
       "        vertical-align: top;\n",
       "    }\n",
       "\n",
       "    .dataframe thead th {\n",
       "        text-align: right;\n",
       "    }\n",
       "</style>\n",
       "<table border=\"1\" class=\"dataframe\">\n",
       "  <thead>\n",
       "    <tr style=\"text-align: right;\">\n",
       "      <th></th>\n",
       "      <th>id</th>\n",
       "      <th>title</th>\n",
       "      <th>overview</th>\n",
       "      <th>release_date</th>\n",
       "      <th>popularity</th>\n",
       "      <th>vote_average</th>\n",
       "      <th>vote_count</th>\n",
       "    </tr>\n",
       "  </thead>\n",
       "  <tbody>\n",
       "    <tr>\n",
       "      <th>0</th>\n",
       "      <td>278</td>\n",
       "      <td>The Shawshank Redemption</td>\n",
       "      <td>Imprisoned in the 1940s for the double murder ...</td>\n",
       "      <td>1994-09-23</td>\n",
       "      <td>161.704</td>\n",
       "      <td>8.708</td>\n",
       "      <td>27822</td>\n",
       "    </tr>\n",
       "    <tr>\n",
       "      <th>1</th>\n",
       "      <td>238</td>\n",
       "      <td>The Godfather</td>\n",
       "      <td>Spanning the years 1945 to 1955, a chronicle o...</td>\n",
       "      <td>1972-03-14</td>\n",
       "      <td>166.401</td>\n",
       "      <td>8.689</td>\n",
       "      <td>21119</td>\n",
       "    </tr>\n",
       "    <tr>\n",
       "      <th>2</th>\n",
       "      <td>240</td>\n",
       "      <td>The Godfather Part II</td>\n",
       "      <td>In the continuing saga of the Corleone crime f...</td>\n",
       "      <td>1974-12-20</td>\n",
       "      <td>84.446</td>\n",
       "      <td>8.570</td>\n",
       "      <td>12747</td>\n",
       "    </tr>\n",
       "    <tr>\n",
       "      <th>3</th>\n",
       "      <td>424</td>\n",
       "      <td>Schindler's List</td>\n",
       "      <td>The true story of how businessman Oskar Schind...</td>\n",
       "      <td>1993-12-15</td>\n",
       "      <td>77.562</td>\n",
       "      <td>8.567</td>\n",
       "      <td>16192</td>\n",
       "    </tr>\n",
       "    <tr>\n",
       "      <th>4</th>\n",
       "      <td>389</td>\n",
       "      <td>12 Angry Men</td>\n",
       "      <td>The defense and the prosecution have rested an...</td>\n",
       "      <td>1957-04-10</td>\n",
       "      <td>60.237</td>\n",
       "      <td>8.500</td>\n",
       "      <td>8935</td>\n",
       "    </tr>\n",
       "  </tbody>\n",
       "</table>\n",
       "</div>"
      ],
      "text/plain": [
       "    id                     title  \\\n",
       "0  278  The Shawshank Redemption   \n",
       "1  238             The Godfather   \n",
       "2  240     The Godfather Part II   \n",
       "3  424          Schindler's List   \n",
       "4  389              12 Angry Men   \n",
       "\n",
       "                                            overview release_date  popularity  \\\n",
       "0  Imprisoned in the 1940s for the double murder ...   1994-09-23     161.704   \n",
       "1  Spanning the years 1945 to 1955, a chronicle o...   1972-03-14     166.401   \n",
       "2  In the continuing saga of the Corleone crime f...   1974-12-20      84.446   \n",
       "3  The true story of how businessman Oskar Schind...   1993-12-15      77.562   \n",
       "4  The defense and the prosecution have rested an...   1957-04-10      60.237   \n",
       "\n",
       "   vote_average  vote_count  \n",
       "0         8.708       27822  \n",
       "1         8.689       21119  \n",
       "2         8.570       12747  \n",
       "3         8.567       16192  \n",
       "4         8.500        8935  "
      ]
     },
     "execution_count": 4,
     "metadata": {},
     "output_type": "execute_result"
    }
   ],
   "source": [
    "temp_df.head()"
   ]
  },
  {
   "cell_type": "code",
   "execution_count": 5,
   "id": "6c8b525a",
   "metadata": {
    "execution": {
     "iopub.execute_input": "2025-03-06T21:14:20.754586Z",
     "iopub.status.busy": "2025-03-06T21:14:20.754126Z",
     "iopub.status.idle": "2025-03-06T21:14:59.849875Z",
     "shell.execute_reply": "2025-03-06T21:14:59.848929Z"
    },
    "papermill": {
     "duration": 39.101575,
     "end_time": "2025-03-06T21:14:59.851998",
     "exception": false,
     "start_time": "2025-03-06T21:14:20.750423",
     "status": "completed"
    },
    "tags": []
   },
   "outputs": [],
   "source": [
    "import pandas as pd\n",
    "import requests\n",
    "\n",
    "# Initialize an empty list to collect DataFrames\n",
    "dfs = []\n",
    "\n",
    "for i in range(1, 429):  # Adjust the range as needed\n",
    "    response = requests.get(\n",
    "        'https://api.themoviedb.org/3/movie/top_rated',\n",
    "        params={\n",
    "            'api_key': '8265bd1679663a7ea12ac168da84d2e8',\n",
    "            'language': 'en-US',\n",
    "            'page': i\n",
    "        }\n",
    "    )\n",
    "    temp_df = pd.DataFrame(response.json()['results'])[\n",
    "        ['id', 'title', 'overview', 'release_date', 'popularity', 'vote_average', 'vote_count']\n",
    "    ]\n",
    "    dfs.append(temp_df)\n",
    "\n",
    "# Concatenate all DataFrames in the list into a single DataFrame\n",
    "df = pd.concat(dfs, ignore_index=True)\n"
   ]
  },
  {
   "cell_type": "code",
   "execution_count": 6,
   "id": "e9eb87b0",
   "metadata": {
    "execution": {
     "iopub.execute_input": "2025-03-06T21:14:59.859623Z",
     "iopub.status.busy": "2025-03-06T21:14:59.859258Z",
     "iopub.status.idle": "2025-03-06T21:14:59.874772Z",
     "shell.execute_reply": "2025-03-06T21:14:59.873694Z"
    },
    "papermill": {
     "duration": 0.02072,
     "end_time": "2025-03-06T21:14:59.876232",
     "exception": false,
     "start_time": "2025-03-06T21:14:59.855512",
     "status": "completed"
    },
    "tags": []
   },
   "outputs": [
    {
     "data": {
      "text/html": [
       "<div>\n",
       "<style scoped>\n",
       "    .dataframe tbody tr th:only-of-type {\n",
       "        vertical-align: middle;\n",
       "    }\n",
       "\n",
       "    .dataframe tbody tr th {\n",
       "        vertical-align: top;\n",
       "    }\n",
       "\n",
       "    .dataframe thead th {\n",
       "        text-align: right;\n",
       "    }\n",
       "</style>\n",
       "<table border=\"1\" class=\"dataframe\">\n",
       "  <thead>\n",
       "    <tr style=\"text-align: right;\">\n",
       "      <th></th>\n",
       "      <th>id</th>\n",
       "      <th>title</th>\n",
       "      <th>overview</th>\n",
       "      <th>release_date</th>\n",
       "      <th>popularity</th>\n",
       "      <th>vote_average</th>\n",
       "      <th>vote_count</th>\n",
       "    </tr>\n",
       "  </thead>\n",
       "  <tbody>\n",
       "    <tr>\n",
       "      <th>0</th>\n",
       "      <td>278</td>\n",
       "      <td>The Shawshank Redemption</td>\n",
       "      <td>Imprisoned in the 1940s for the double murder ...</td>\n",
       "      <td>1994-09-23</td>\n",
       "      <td>161.704</td>\n",
       "      <td>8.708</td>\n",
       "      <td>27822</td>\n",
       "    </tr>\n",
       "    <tr>\n",
       "      <th>1</th>\n",
       "      <td>238</td>\n",
       "      <td>The Godfather</td>\n",
       "      <td>Spanning the years 1945 to 1955, a chronicle o...</td>\n",
       "      <td>1972-03-14</td>\n",
       "      <td>166.401</td>\n",
       "      <td>8.689</td>\n",
       "      <td>21119</td>\n",
       "    </tr>\n",
       "    <tr>\n",
       "      <th>2</th>\n",
       "      <td>240</td>\n",
       "      <td>The Godfather Part II</td>\n",
       "      <td>In the continuing saga of the Corleone crime f...</td>\n",
       "      <td>1974-12-20</td>\n",
       "      <td>84.446</td>\n",
       "      <td>8.570</td>\n",
       "      <td>12747</td>\n",
       "    </tr>\n",
       "    <tr>\n",
       "      <th>3</th>\n",
       "      <td>424</td>\n",
       "      <td>Schindler's List</td>\n",
       "      <td>The true story of how businessman Oskar Schind...</td>\n",
       "      <td>1993-12-15</td>\n",
       "      <td>77.562</td>\n",
       "      <td>8.567</td>\n",
       "      <td>16192</td>\n",
       "    </tr>\n",
       "    <tr>\n",
       "      <th>4</th>\n",
       "      <td>389</td>\n",
       "      <td>12 Angry Men</td>\n",
       "      <td>The defense and the prosecution have rested an...</td>\n",
       "      <td>1957-04-10</td>\n",
       "      <td>60.237</td>\n",
       "      <td>8.500</td>\n",
       "      <td>8935</td>\n",
       "    </tr>\n",
       "    <tr>\n",
       "      <th>...</th>\n",
       "      <td>...</td>\n",
       "      <td>...</td>\n",
       "      <td>...</td>\n",
       "      <td>...</td>\n",
       "      <td>...</td>\n",
       "      <td>...</td>\n",
       "      <td>...</td>\n",
       "    </tr>\n",
       "    <tr>\n",
       "      <th>8555</th>\n",
       "      <td>438650</td>\n",
       "      <td>Cold Pursuit</td>\n",
       "      <td>The quiet family life of Nels Coxman, a snowpl...</td>\n",
       "      <td>2019-02-07</td>\n",
       "      <td>33.830</td>\n",
       "      <td>5.830</td>\n",
       "      <td>2618</td>\n",
       "    </tr>\n",
       "    <tr>\n",
       "      <th>8556</th>\n",
       "      <td>71679</td>\n",
       "      <td>Resident Evil: Retribution</td>\n",
       "      <td>The Umbrella Corporation’s deadly T-virus cont...</td>\n",
       "      <td>2012-09-12</td>\n",
       "      <td>3.603</td>\n",
       "      <td>5.830</td>\n",
       "      <td>4029</td>\n",
       "    </tr>\n",
       "    <tr>\n",
       "      <th>8557</th>\n",
       "      <td>49524</td>\n",
       "      <td>R.I.P.D.</td>\n",
       "      <td>A recently slain cop joins a team of undead po...</td>\n",
       "      <td>2013-07-18</td>\n",
       "      <td>22.011</td>\n",
       "      <td>5.830</td>\n",
       "      <td>4038</td>\n",
       "    </tr>\n",
       "    <tr>\n",
       "      <th>8558</th>\n",
       "      <td>8457</td>\n",
       "      <td>Drillbit Taylor</td>\n",
       "      <td>Dealing with a sociopathic school bully, three...</td>\n",
       "      <td>2008-02-04</td>\n",
       "      <td>18.012</td>\n",
       "      <td>5.830</td>\n",
       "      <td>1039</td>\n",
       "    </tr>\n",
       "    <tr>\n",
       "      <th>8559</th>\n",
       "      <td>1691</td>\n",
       "      <td>Hostel: Part II</td>\n",
       "      <td>Three American college students studying abroa...</td>\n",
       "      <td>2007-06-07</td>\n",
       "      <td>24.286</td>\n",
       "      <td>5.800</td>\n",
       "      <td>2048</td>\n",
       "    </tr>\n",
       "  </tbody>\n",
       "</table>\n",
       "<p>8560 rows × 7 columns</p>\n",
       "</div>"
      ],
      "text/plain": [
       "          id                       title  \\\n",
       "0        278    The Shawshank Redemption   \n",
       "1        238               The Godfather   \n",
       "2        240       The Godfather Part II   \n",
       "3        424            Schindler's List   \n",
       "4        389                12 Angry Men   \n",
       "...      ...                         ...   \n",
       "8555  438650                Cold Pursuit   \n",
       "8556   71679  Resident Evil: Retribution   \n",
       "8557   49524                    R.I.P.D.   \n",
       "8558    8457             Drillbit Taylor   \n",
       "8559    1691             Hostel: Part II   \n",
       "\n",
       "                                               overview release_date  \\\n",
       "0     Imprisoned in the 1940s for the double murder ...   1994-09-23   \n",
       "1     Spanning the years 1945 to 1955, a chronicle o...   1972-03-14   \n",
       "2     In the continuing saga of the Corleone crime f...   1974-12-20   \n",
       "3     The true story of how businessman Oskar Schind...   1993-12-15   \n",
       "4     The defense and the prosecution have rested an...   1957-04-10   \n",
       "...                                                 ...          ...   \n",
       "8555  The quiet family life of Nels Coxman, a snowpl...   2019-02-07   \n",
       "8556  The Umbrella Corporation’s deadly T-virus cont...   2012-09-12   \n",
       "8557  A recently slain cop joins a team of undead po...   2013-07-18   \n",
       "8558  Dealing with a sociopathic school bully, three...   2008-02-04   \n",
       "8559  Three American college students studying abroa...   2007-06-07   \n",
       "\n",
       "      popularity  vote_average  vote_count  \n",
       "0        161.704         8.708       27822  \n",
       "1        166.401         8.689       21119  \n",
       "2         84.446         8.570       12747  \n",
       "3         77.562         8.567       16192  \n",
       "4         60.237         8.500        8935  \n",
       "...          ...           ...         ...  \n",
       "8555      33.830         5.830        2618  \n",
       "8556       3.603         5.830        4029  \n",
       "8557      22.011         5.830        4038  \n",
       "8558      18.012         5.830        1039  \n",
       "8559      24.286         5.800        2048  \n",
       "\n",
       "[8560 rows x 7 columns]"
      ]
     },
     "execution_count": 6,
     "metadata": {},
     "output_type": "execute_result"
    }
   ],
   "source": [
    "df"
   ]
  },
  {
   "cell_type": "code",
   "execution_count": 7,
   "id": "35a05124",
   "metadata": {
    "execution": {
     "iopub.execute_input": "2025-03-06T21:14:59.883355Z",
     "iopub.status.busy": "2025-03-06T21:14:59.883084Z",
     "iopub.status.idle": "2025-03-06T21:14:59.888291Z",
     "shell.execute_reply": "2025-03-06T21:14:59.887517Z"
    },
    "papermill": {
     "duration": 0.010306,
     "end_time": "2025-03-06T21:14:59.889811",
     "exception": false,
     "start_time": "2025-03-06T21:14:59.879505",
     "status": "completed"
    },
    "tags": []
   },
   "outputs": [
    {
     "data": {
      "text/plain": [
       "(8560, 7)"
      ]
     },
     "execution_count": 7,
     "metadata": {},
     "output_type": "execute_result"
    }
   ],
   "source": [
    "df.shape"
   ]
  },
  {
   "cell_type": "code",
   "execution_count": 8,
   "id": "3832d022",
   "metadata": {
    "execution": {
     "iopub.execute_input": "2025-03-06T21:14:59.896897Z",
     "iopub.status.busy": "2025-03-06T21:14:59.896583Z",
     "iopub.status.idle": "2025-03-06T21:14:59.997494Z",
     "shell.execute_reply": "2025-03-06T21:14:59.996560Z"
    },
    "papermill": {
     "duration": 0.106417,
     "end_time": "2025-03-06T21:14:59.999305",
     "exception": false,
     "start_time": "2025-03-06T21:14:59.892888",
     "status": "completed"
    },
    "tags": []
   },
   "outputs": [],
   "source": [
    "df.to_csv('Top_Rated_Movie_csv')"
   ]
  },
  {
   "cell_type": "code",
   "execution_count": null,
   "id": "c85a94f9",
   "metadata": {
    "papermill": {
     "duration": 0.002991,
     "end_time": "2025-03-06T21:15:00.005798",
     "exception": false,
     "start_time": "2025-03-06T21:15:00.002807",
     "status": "completed"
    },
    "tags": []
   },
   "outputs": [],
   "source": []
  }
 ],
 "metadata": {
  "kaggle": {
   "accelerator": "none",
   "dataSources": [],
   "dockerImageVersionId": 30918,
   "isGpuEnabled": false,
   "isInternetEnabled": true,
   "language": "python",
   "sourceType": "notebook"
  },
  "kernelspec": {
   "display_name": "Python 3",
   "language": "python",
   "name": "python3"
  },
  "language_info": {
   "codemirror_mode": {
    "name": "ipython",
    "version": 3
   },
   "file_extension": ".py",
   "mimetype": "text/x-python",
   "name": "python",
   "nbconvert_exporter": "python",
   "pygments_lexer": "ipython3",
   "version": "3.10.12"
  },
  "papermill": {
   "default_parameters": {},
   "duration": 43.87979,
   "end_time": "2025-03-06T21:15:00.628594",
   "environment_variables": {},
   "exception": null,
   "input_path": "__notebook__.ipynb",
   "output_path": "__notebook__.ipynb",
   "parameters": {},
   "start_time": "2025-03-06T21:14:16.748804",
   "version": "2.6.0"
  }
 },
 "nbformat": 4,
 "nbformat_minor": 5
}
