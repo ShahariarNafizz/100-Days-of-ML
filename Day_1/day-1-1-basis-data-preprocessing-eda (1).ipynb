{
 "cells": [
  {
   "cell_type": "code",
   "execution_count": 1,
   "id": "ed51dc69",
   "metadata": {
    "execution": {
     "iopub.execute_input": "2025-02-23T19:18:58.621063Z",
     "iopub.status.busy": "2025-02-23T19:18:58.620655Z",
     "iopub.status.idle": "2025-02-23T19:18:59.671450Z",
     "shell.execute_reply": "2025-02-23T19:18:59.670368Z"
    },
    "papermill": {
     "duration": 1.062037,
     "end_time": "2025-02-23T19:18:59.673593",
     "exception": false,
     "start_time": "2025-02-23T19:18:58.611556",
     "status": "completed"
    },
    "tags": []
   },
   "outputs": [],
   "source": [
    "\n",
    "import numpy as np\n",
    "import pandas as pd"
   ]
  },
  {
   "cell_type": "code",
   "execution_count": 2,
   "id": "e08124b4",
   "metadata": {
    "execution": {
     "iopub.execute_input": "2025-02-23T19:18:59.690211Z",
     "iopub.status.busy": "2025-02-23T19:18:59.689611Z",
     "iopub.status.idle": "2025-02-23T19:18:59.720071Z",
     "shell.execute_reply": "2025-02-23T19:18:59.718550Z"
    },
    "papermill": {
     "duration": 0.04082,
     "end_time": "2025-02-23T19:18:59.722207",
     "exception": false,
     "start_time": "2025-02-23T19:18:59.681387",
     "status": "completed"
    },
    "tags": []
   },
   "outputs": [],
   "source": [
    "df = pd.read_csv('/kaggle/input/day-1-1-basic-preprocessing/placement.csv')"
   ]
  },
  {
   "cell_type": "code",
   "execution_count": 3,
   "id": "1951cedc",
   "metadata": {
    "execution": {
     "iopub.execute_input": "2025-02-23T19:18:59.738179Z",
     "iopub.status.busy": "2025-02-23T19:18:59.737764Z",
     "iopub.status.idle": "2025-02-23T19:18:59.767920Z",
     "shell.execute_reply": "2025-02-23T19:18:59.766694Z"
    },
    "papermill": {
     "duration": 0.040108,
     "end_time": "2025-02-23T19:18:59.769773",
     "exception": false,
     "start_time": "2025-02-23T19:18:59.729665",
     "status": "completed"
    },
    "tags": []
   },
   "outputs": [
    {
     "data": {
      "text/html": [
       "<div>\n",
       "<style scoped>\n",
       "    .dataframe tbody tr th:only-of-type {\n",
       "        vertical-align: middle;\n",
       "    }\n",
       "\n",
       "    .dataframe tbody tr th {\n",
       "        vertical-align: top;\n",
       "    }\n",
       "\n",
       "    .dataframe thead th {\n",
       "        text-align: right;\n",
       "    }\n",
       "</style>\n",
       "<table border=\"1\" class=\"dataframe\">\n",
       "  <thead>\n",
       "    <tr style=\"text-align: right;\">\n",
       "      <th></th>\n",
       "      <th>Unnamed: 0</th>\n",
       "      <th>cgpa</th>\n",
       "      <th>iq</th>\n",
       "      <th>placement</th>\n",
       "    </tr>\n",
       "  </thead>\n",
       "  <tbody>\n",
       "    <tr>\n",
       "      <th>0</th>\n",
       "      <td>0</td>\n",
       "      <td>6.8</td>\n",
       "      <td>123.0</td>\n",
       "      <td>1</td>\n",
       "    </tr>\n",
       "    <tr>\n",
       "      <th>1</th>\n",
       "      <td>1</td>\n",
       "      <td>5.9</td>\n",
       "      <td>106.0</td>\n",
       "      <td>0</td>\n",
       "    </tr>\n",
       "    <tr>\n",
       "      <th>2</th>\n",
       "      <td>2</td>\n",
       "      <td>5.3</td>\n",
       "      <td>121.0</td>\n",
       "      <td>0</td>\n",
       "    </tr>\n",
       "    <tr>\n",
       "      <th>3</th>\n",
       "      <td>3</td>\n",
       "      <td>7.4</td>\n",
       "      <td>132.0</td>\n",
       "      <td>1</td>\n",
       "    </tr>\n",
       "    <tr>\n",
       "      <th>4</th>\n",
       "      <td>4</td>\n",
       "      <td>5.8</td>\n",
       "      <td>142.0</td>\n",
       "      <td>0</td>\n",
       "    </tr>\n",
       "  </tbody>\n",
       "</table>\n",
       "</div>"
      ],
      "text/plain": [
       "   Unnamed: 0  cgpa     iq  placement\n",
       "0           0   6.8  123.0          1\n",
       "1           1   5.9  106.0          0\n",
       "2           2   5.3  121.0          0\n",
       "3           3   7.4  132.0          1\n",
       "4           4   5.8  142.0          0"
      ]
     },
     "execution_count": 3,
     "metadata": {},
     "output_type": "execute_result"
    }
   ],
   "source": [
    "df.head()"
   ]
  },
  {
   "cell_type": "code",
   "execution_count": 4,
   "id": "9d508160",
   "metadata": {
    "execution": {
     "iopub.execute_input": "2025-02-23T19:18:59.786239Z",
     "iopub.status.busy": "2025-02-23T19:18:59.785848Z",
     "iopub.status.idle": "2025-02-23T19:18:59.818417Z",
     "shell.execute_reply": "2025-02-23T19:18:59.817032Z"
    },
    "papermill": {
     "duration": 0.043063,
     "end_time": "2025-02-23T19:18:59.820433",
     "exception": false,
     "start_time": "2025-02-23T19:18:59.777370",
     "status": "completed"
    },
    "tags": []
   },
   "outputs": [
    {
     "name": "stdout",
     "output_type": "stream",
     "text": [
      "<class 'pandas.core.frame.DataFrame'>\n",
      "RangeIndex: 100 entries, 0 to 99\n",
      "Data columns (total 4 columns):\n",
      " #   Column      Non-Null Count  Dtype  \n",
      "---  ------      --------------  -----  \n",
      " 0   Unnamed: 0  100 non-null    int64  \n",
      " 1   cgpa        100 non-null    float64\n",
      " 2   iq          100 non-null    float64\n",
      " 3   placement   100 non-null    int64  \n",
      "dtypes: float64(2), int64(2)\n",
      "memory usage: 3.2 KB\n"
     ]
    }
   ],
   "source": [
    "df.info()"
   ]
  },
  {
   "cell_type": "code",
   "execution_count": 5,
   "id": "cb69f946",
   "metadata": {
    "execution": {
     "iopub.execute_input": "2025-02-23T19:18:59.837089Z",
     "iopub.status.busy": "2025-02-23T19:18:59.836706Z",
     "iopub.status.idle": "2025-02-23T19:18:59.842594Z",
     "shell.execute_reply": "2025-02-23T19:18:59.841676Z"
    },
    "papermill": {
     "duration": 0.015992,
     "end_time": "2025-02-23T19:18:59.844154",
     "exception": false,
     "start_time": "2025-02-23T19:18:59.828162",
     "status": "completed"
    },
    "tags": []
   },
   "outputs": [
    {
     "data": {
      "text/plain": [
       "(100, 4)"
      ]
     },
     "execution_count": 5,
     "metadata": {},
     "output_type": "execute_result"
    }
   ],
   "source": [
    "df.shape\n"
   ]
  },
  {
   "cell_type": "code",
   "execution_count": 6,
   "id": "591fef78",
   "metadata": {
    "execution": {
     "iopub.execute_input": "2025-02-23T19:18:59.862539Z",
     "iopub.status.busy": "2025-02-23T19:18:59.862187Z",
     "iopub.status.idle": "2025-02-23T19:18:59.869237Z",
     "shell.execute_reply": "2025-02-23T19:18:59.868065Z"
    },
    "papermill": {
     "duration": 0.01917,
     "end_time": "2025-02-23T19:18:59.871169",
     "exception": false,
     "start_time": "2025-02-23T19:18:59.851999",
     "status": "completed"
    },
    "tags": []
   },
   "outputs": [],
   "source": [
    "df = df.iloc[:,1:]"
   ]
  },
  {
   "cell_type": "code",
   "execution_count": 7,
   "id": "bb7ce579",
   "metadata": {
    "execution": {
     "iopub.execute_input": "2025-02-23T19:18:59.888039Z",
     "iopub.status.busy": "2025-02-23T19:18:59.887670Z",
     "iopub.status.idle": "2025-02-23T19:18:59.898754Z",
     "shell.execute_reply": "2025-02-23T19:18:59.897546Z"
    },
    "papermill": {
     "duration": 0.021759,
     "end_time": "2025-02-23T19:18:59.900677",
     "exception": false,
     "start_time": "2025-02-23T19:18:59.878918",
     "status": "completed"
    },
    "tags": []
   },
   "outputs": [
    {
     "data": {
      "text/html": [
       "<div>\n",
       "<style scoped>\n",
       "    .dataframe tbody tr th:only-of-type {\n",
       "        vertical-align: middle;\n",
       "    }\n",
       "\n",
       "    .dataframe tbody tr th {\n",
       "        vertical-align: top;\n",
       "    }\n",
       "\n",
       "    .dataframe thead th {\n",
       "        text-align: right;\n",
       "    }\n",
       "</style>\n",
       "<table border=\"1\" class=\"dataframe\">\n",
       "  <thead>\n",
       "    <tr style=\"text-align: right;\">\n",
       "      <th></th>\n",
       "      <th>cgpa</th>\n",
       "      <th>iq</th>\n",
       "      <th>placement</th>\n",
       "    </tr>\n",
       "  </thead>\n",
       "  <tbody>\n",
       "    <tr>\n",
       "      <th>0</th>\n",
       "      <td>6.8</td>\n",
       "      <td>123.0</td>\n",
       "      <td>1</td>\n",
       "    </tr>\n",
       "    <tr>\n",
       "      <th>1</th>\n",
       "      <td>5.9</td>\n",
       "      <td>106.0</td>\n",
       "      <td>0</td>\n",
       "    </tr>\n",
       "    <tr>\n",
       "      <th>2</th>\n",
       "      <td>5.3</td>\n",
       "      <td>121.0</td>\n",
       "      <td>0</td>\n",
       "    </tr>\n",
       "    <tr>\n",
       "      <th>3</th>\n",
       "      <td>7.4</td>\n",
       "      <td>132.0</td>\n",
       "      <td>1</td>\n",
       "    </tr>\n",
       "    <tr>\n",
       "      <th>4</th>\n",
       "      <td>5.8</td>\n",
       "      <td>142.0</td>\n",
       "      <td>0</td>\n",
       "    </tr>\n",
       "  </tbody>\n",
       "</table>\n",
       "</div>"
      ],
      "text/plain": [
       "   cgpa     iq  placement\n",
       "0   6.8  123.0          1\n",
       "1   5.9  106.0          0\n",
       "2   5.3  121.0          0\n",
       "3   7.4  132.0          1\n",
       "4   5.8  142.0          0"
      ]
     },
     "execution_count": 7,
     "metadata": {},
     "output_type": "execute_result"
    }
   ],
   "source": [
    "df.head()"
   ]
  },
  {
   "cell_type": "code",
   "execution_count": 8,
   "id": "c284a6da",
   "metadata": {
    "execution": {
     "iopub.execute_input": "2025-02-23T19:18:59.918412Z",
     "iopub.status.busy": "2025-02-23T19:18:59.917955Z",
     "iopub.status.idle": "2025-02-23T19:18:59.922315Z",
     "shell.execute_reply": "2025-02-23T19:18:59.921205Z"
    },
    "papermill": {
     "duration": 0.015469,
     "end_time": "2025-02-23T19:18:59.924145",
     "exception": false,
     "start_time": "2025-02-23T19:18:59.908676",
     "status": "completed"
    },
    "tags": []
   },
   "outputs": [],
   "source": [
    "import matplotlib.pyplot as plt"
   ]
  },
  {
   "cell_type": "code",
   "execution_count": 9,
   "id": "b282046d",
   "metadata": {
    "execution": {
     "iopub.execute_input": "2025-02-23T19:18:59.942680Z",
     "iopub.status.busy": "2025-02-23T19:18:59.942326Z",
     "iopub.status.idle": "2025-02-23T19:19:00.236916Z",
     "shell.execute_reply": "2025-02-23T19:19:00.235380Z"
    },
    "papermill": {
     "duration": 0.306274,
     "end_time": "2025-02-23T19:19:00.238941",
     "exception": false,
     "start_time": "2025-02-23T19:18:59.932667",
     "status": "completed"
    },
    "tags": []
   },
   "outputs": [
    {
     "data": {
      "text/plain": [
       "<matplotlib.collections.PathCollection at 0x7ab509e8f970>"
      ]
     },
     "execution_count": 9,
     "metadata": {},
     "output_type": "execute_result"
    },
    {
     "data": {
      "image/png": "[encoded data removed]",
      "text/plain": [
       "<Figure size 640x480 with 1 Axes>"
      ]
     },
     "metadata": {},
     "output_type": "display_data"
    }
   ],
   "source": [
    "plt.scatter(df['cgpa'],df['iq'],c= df['placement'])"
   ]
  },
  {
   "cell_type": "code",
   "execution_count": 10,
   "id": "07b68455",
   "metadata": {
    "execution": {
     "iopub.execute_input": "2025-02-23T19:19:00.258702Z",
     "iopub.status.busy": "2025-02-23T19:19:00.258345Z",
     "iopub.status.idle": "2025-02-23T19:19:00.263774Z",
     "shell.execute_reply": "2025-02-23T19:19:00.262620Z"
    },
    "papermill": {
     "duration": 0.018156,
     "end_time": "2025-02-23T19:19:00.266025",
     "exception": false,
     "start_time": "2025-02-23T19:19:00.247869",
     "status": "completed"
    },
    "tags": []
   },
   "outputs": [],
   "source": [
    "x = df.iloc[:,0:2]\n",
    "y = df.iloc[:,-1]"
   ]
  },
  {
   "cell_type": "code",
   "execution_count": 11,
   "id": "01137488",
   "metadata": {
    "execution": {
     "iopub.execute_input": "2025-02-23T19:19:00.285293Z",
     "iopub.status.busy": "2025-02-23T19:19:00.284879Z",
     "iopub.status.idle": "2025-02-23T19:19:00.296886Z",
     "shell.execute_reply": "2025-02-23T19:19:00.295298Z"
    },
    "papermill": {
     "duration": 0.023909,
     "end_time": "2025-02-23T19:19:00.298827",
     "exception": false,
     "start_time": "2025-02-23T19:19:00.274918",
     "status": "completed"
    },
    "tags": []
   },
   "outputs": [
    {
     "data": {
      "text/html": [
       "<div>\n",
       "<style scoped>\n",
       "    .dataframe tbody tr th:only-of-type {\n",
       "        vertical-align: middle;\n",
       "    }\n",
       "\n",
       "    .dataframe tbody tr th {\n",
       "        vertical-align: top;\n",
       "    }\n",
       "\n",
       "    .dataframe thead th {\n",
       "        text-align: right;\n",
       "    }\n",
       "</style>\n",
       "<table border=\"1\" class=\"dataframe\">\n",
       "  <thead>\n",
       "    <tr style=\"text-align: right;\">\n",
       "      <th></th>\n",
       "      <th>cgpa</th>\n",
       "      <th>iq</th>\n",
       "    </tr>\n",
       "  </thead>\n",
       "  <tbody>\n",
       "    <tr>\n",
       "      <th>0</th>\n",
       "      <td>6.8</td>\n",
       "      <td>123.0</td>\n",
       "    </tr>\n",
       "    <tr>\n",
       "      <th>1</th>\n",
       "      <td>5.9</td>\n",
       "      <td>106.0</td>\n",
       "    </tr>\n",
       "    <tr>\n",
       "      <th>2</th>\n",
       "      <td>5.3</td>\n",
       "      <td>121.0</td>\n",
       "    </tr>\n",
       "    <tr>\n",
       "      <th>3</th>\n",
       "      <td>7.4</td>\n",
       "      <td>132.0</td>\n",
       "    </tr>\n",
       "    <tr>\n",
       "      <th>4</th>\n",
       "      <td>5.8</td>\n",
       "      <td>142.0</td>\n",
       "    </tr>\n",
       "    <tr>\n",
       "      <th>...</th>\n",
       "      <td>...</td>\n",
       "      <td>...</td>\n",
       "    </tr>\n",
       "    <tr>\n",
       "      <th>95</th>\n",
       "      <td>4.3</td>\n",
       "      <td>200.0</td>\n",
       "    </tr>\n",
       "    <tr>\n",
       "      <th>96</th>\n",
       "      <td>4.4</td>\n",
       "      <td>42.0</td>\n",
       "    </tr>\n",
       "    <tr>\n",
       "      <th>97</th>\n",
       "      <td>6.7</td>\n",
       "      <td>182.0</td>\n",
       "    </tr>\n",
       "    <tr>\n",
       "      <th>98</th>\n",
       "      <td>6.3</td>\n",
       "      <td>103.0</td>\n",
       "    </tr>\n",
       "    <tr>\n",
       "      <th>99</th>\n",
       "      <td>6.2</td>\n",
       "      <td>113.0</td>\n",
       "    </tr>\n",
       "  </tbody>\n",
       "</table>\n",
       "<p>100 rows × 2 columns</p>\n",
       "</div>"
      ],
      "text/plain": [
       "    cgpa     iq\n",
       "0    6.8  123.0\n",
       "1    5.9  106.0\n",
       "2    5.3  121.0\n",
       "3    7.4  132.0\n",
       "4    5.8  142.0\n",
       "..   ...    ...\n",
       "95   4.3  200.0\n",
       "96   4.4   42.0\n",
       "97   6.7  182.0\n",
       "98   6.3  103.0\n",
       "99   6.2  113.0\n",
       "\n",
       "[100 rows x 2 columns]"
      ]
     },
     "execution_count": 11,
     "metadata": {},
     "output_type": "execute_result"
    }
   ],
   "source": [
    "x"
   ]
  },
  {
   "cell_type": "code",
   "execution_count": 12,
   "id": "bab3af8a",
   "metadata": {
    "execution": {
     "iopub.execute_input": "2025-02-23T19:19:00.318142Z",
     "iopub.status.busy": "2025-02-23T19:19:00.317709Z",
     "iopub.status.idle": "2025-02-23T19:19:00.325579Z",
     "shell.execute_reply": "2025-02-23T19:19:00.324416Z"
    },
    "papermill": {
     "duration": 0.019724,
     "end_time": "2025-02-23T19:19:00.327614",
     "exception": false,
     "start_time": "2025-02-23T19:19:00.307890",
     "status": "completed"
    },
    "tags": []
   },
   "outputs": [
    {
     "data": {
      "text/plain": [
       "0     1\n",
       "1     0\n",
       "2     0\n",
       "3     1\n",
       "4     0\n",
       "     ..\n",
       "95    0\n",
       "96    0\n",
       "97    1\n",
       "98    1\n",
       "99    1\n",
       "Name: placement, Length: 100, dtype: int64"
      ]
     },
     "execution_count": 12,
     "metadata": {},
     "output_type": "execute_result"
    }
   ],
   "source": [
    "y"
   ]
  },
  {
   "cell_type": "code",
   "execution_count": 13,
   "id": "16b48597",
   "metadata": {
    "execution": {
     "iopub.execute_input": "2025-02-23T19:19:00.347549Z",
     "iopub.status.busy": "2025-02-23T19:19:00.347161Z",
     "iopub.status.idle": "2025-02-23T19:19:00.353291Z",
     "shell.execute_reply": "2025-02-23T19:19:00.352289Z"
    },
    "papermill": {
     "duration": 0.018236,
     "end_time": "2025-02-23T19:19:00.355128",
     "exception": false,
     "start_time": "2025-02-23T19:19:00.336892",
     "status": "completed"
    },
    "tags": []
   },
   "outputs": [
    {
     "data": {
      "text/plain": [
       "(100, 2)"
      ]
     },
     "execution_count": 13,
     "metadata": {},
     "output_type": "execute_result"
    }
   ],
   "source": [
    "x.shape"
   ]
  },
  {
   "cell_type": "code",
   "execution_count": 14,
   "id": "ce5cd42d",
   "metadata": {
    "execution": {
     "iopub.execute_input": "2025-02-23T19:19:00.375378Z",
     "iopub.status.busy": "2025-02-23T19:19:00.375007Z",
     "iopub.status.idle": "2025-02-23T19:19:00.380930Z",
     "shell.execute_reply": "2025-02-23T19:19:00.379749Z"
    },
    "papermill": {
     "duration": 0.018356,
     "end_time": "2025-02-23T19:19:00.382902",
     "exception": false,
     "start_time": "2025-02-23T19:19:00.364546",
     "status": "completed"
    },
    "tags": []
   },
   "outputs": [
    {
     "data": {
      "text/plain": [
       "(100,)"
      ]
     },
     "execution_count": 14,
     "metadata": {},
     "output_type": "execute_result"
    }
   ],
   "source": [
    "y.shape"
   ]
  },
  {
   "cell_type": "code",
   "execution_count": 15,
   "id": "183fbe66",
   "metadata": {
    "execution": {
     "iopub.execute_input": "2025-02-23T19:19:00.403135Z",
     "iopub.status.busy": "2025-02-23T19:19:00.402736Z",
     "iopub.status.idle": "2025-02-23T19:19:02.138178Z",
     "shell.execute_reply": "2025-02-23T19:19:02.136825Z"
    },
    "papermill": {
     "duration": 1.748254,
     "end_time": "2025-02-23T19:19:02.140572",
     "exception": false,
     "start_time": "2025-02-23T19:19:00.392318",
     "status": "completed"
    },
    "tags": []
   },
   "outputs": [],
   "source": [
    "from sklearn.model_selection import train_test_split"
   ]
  },
  {
   "cell_type": "code",
   "execution_count": 16,
   "id": "87e8c20c",
   "metadata": {
    "execution": {
     "iopub.execute_input": "2025-02-23T19:19:02.161166Z",
     "iopub.status.busy": "2025-02-23T19:19:02.160533Z",
     "iopub.status.idle": "2025-02-23T19:19:02.167256Z",
     "shell.execute_reply": "2025-02-23T19:19:02.166016Z"
    },
    "papermill": {
     "duration": 0.01886,
     "end_time": "2025-02-23T19:19:02.169122",
     "exception": false,
     "start_time": "2025-02-23T19:19:02.150262",
     "status": "completed"
    },
    "tags": []
   },
   "outputs": [],
   "source": [
    "x_train,x_test,y_train,y_test = train_test_split(x,y,test_size=0.1)"
   ]
  },
  {
   "cell_type": "code",
   "execution_count": 17,
   "id": "8e58ccdf",
   "metadata": {
    "execution": {
     "iopub.execute_input": "2025-02-23T19:19:02.188784Z",
     "iopub.status.busy": "2025-02-23T19:19:02.188445Z",
     "iopub.status.idle": "2025-02-23T19:19:02.200444Z",
     "shell.execute_reply": "2025-02-23T19:19:02.199118Z"
    },
    "papermill": {
     "duration": 0.02385,
     "end_time": "2025-02-23T19:19:02.202305",
     "exception": false,
     "start_time": "2025-02-23T19:19:02.178455",
     "status": "completed"
    },
    "tags": []
   },
   "outputs": [
    {
     "data": {
      "text/html": [
       "<div>\n",
       "<style scoped>\n",
       "    .dataframe tbody tr th:only-of-type {\n",
       "        vertical-align: middle;\n",
       "    }\n",
       "\n",
       "    .dataframe tbody tr th {\n",
       "        vertical-align: top;\n",
       "    }\n",
       "\n",
       "    .dataframe thead th {\n",
       "        text-align: right;\n",
       "    }\n",
       "</style>\n",
       "<table border=\"1\" class=\"dataframe\">\n",
       "  <thead>\n",
       "    <tr style=\"text-align: right;\">\n",
       "      <th></th>\n",
       "      <th>cgpa</th>\n",
       "      <th>iq</th>\n",
       "    </tr>\n",
       "  </thead>\n",
       "  <tbody>\n",
       "    <tr>\n",
       "      <th>63</th>\n",
       "      <td>6.3</td>\n",
       "      <td>128.0</td>\n",
       "    </tr>\n",
       "    <tr>\n",
       "      <th>53</th>\n",
       "      <td>8.3</td>\n",
       "      <td>168.0</td>\n",
       "    </tr>\n",
       "    <tr>\n",
       "      <th>90</th>\n",
       "      <td>7.3</td>\n",
       "      <td>86.0</td>\n",
       "    </tr>\n",
       "    <tr>\n",
       "      <th>44</th>\n",
       "      <td>7.5</td>\n",
       "      <td>61.0</td>\n",
       "    </tr>\n",
       "    <tr>\n",
       "      <th>9</th>\n",
       "      <td>5.1</td>\n",
       "      <td>66.0</td>\n",
       "    </tr>\n",
       "    <tr>\n",
       "      <th>...</th>\n",
       "      <td>...</td>\n",
       "      <td>...</td>\n",
       "    </tr>\n",
       "    <tr>\n",
       "      <th>74</th>\n",
       "      <td>6.7</td>\n",
       "      <td>154.0</td>\n",
       "    </tr>\n",
       "    <tr>\n",
       "      <th>97</th>\n",
       "      <td>6.7</td>\n",
       "      <td>182.0</td>\n",
       "    </tr>\n",
       "    <tr>\n",
       "      <th>57</th>\n",
       "      <td>6.5</td>\n",
       "      <td>130.0</td>\n",
       "    </tr>\n",
       "    <tr>\n",
       "      <th>42</th>\n",
       "      <td>7.6</td>\n",
       "      <td>89.0</td>\n",
       "    </tr>\n",
       "    <tr>\n",
       "      <th>31</th>\n",
       "      <td>3.9</td>\n",
       "      <td>109.0</td>\n",
       "    </tr>\n",
       "  </tbody>\n",
       "</table>\n",
       "<p>90 rows × 2 columns</p>\n",
       "</div>"
      ],
      "text/plain": [
       "    cgpa     iq\n",
       "63   6.3  128.0\n",
       "53   8.3  168.0\n",
       "90   7.3   86.0\n",
       "44   7.5   61.0\n",
       "9    5.1   66.0\n",
       "..   ...    ...\n",
       "74   6.7  154.0\n",
       "97   6.7  182.0\n",
       "57   6.5  130.0\n",
       "42   7.6   89.0\n",
       "31   3.9  109.0\n",
       "\n",
       "[90 rows x 2 columns]"
      ]
     },
     "execution_count": 17,
     "metadata": {},
     "output_type": "execute_result"
    }
   ],
   "source": [
    "x_train"
   ]
  },
  {
   "cell_type": "code",
   "execution_count": 18,
   "id": "6a461dfe",
   "metadata": {
    "execution": {
     "iopub.execute_input": "2025-02-23T19:19:02.222552Z",
     "iopub.status.busy": "2025-02-23T19:19:02.222205Z",
     "iopub.status.idle": "2025-02-23T19:19:02.233740Z",
     "shell.execute_reply": "2025-02-23T19:19:02.232441Z"
    },
    "papermill": {
     "duration": 0.02377,
     "end_time": "2025-02-23T19:19:02.235553",
     "exception": false,
     "start_time": "2025-02-23T19:19:02.211783",
     "status": "completed"
    },
    "tags": []
   },
   "outputs": [
    {
     "data": {
      "text/html": [
       "<div>\n",
       "<style scoped>\n",
       "    .dataframe tbody tr th:only-of-type {\n",
       "        vertical-align: middle;\n",
       "    }\n",
       "\n",
       "    .dataframe tbody tr th {\n",
       "        vertical-align: top;\n",
       "    }\n",
       "\n",
       "    .dataframe thead th {\n",
       "        text-align: right;\n",
       "    }\n",
       "</style>\n",
       "<table border=\"1\" class=\"dataframe\">\n",
       "  <thead>\n",
       "    <tr style=\"text-align: right;\">\n",
       "      <th></th>\n",
       "      <th>cgpa</th>\n",
       "      <th>iq</th>\n",
       "    </tr>\n",
       "  </thead>\n",
       "  <tbody>\n",
       "    <tr>\n",
       "      <th>30</th>\n",
       "      <td>7.6</td>\n",
       "      <td>128.0</td>\n",
       "    </tr>\n",
       "    <tr>\n",
       "      <th>79</th>\n",
       "      <td>6.5</td>\n",
       "      <td>90.0</td>\n",
       "    </tr>\n",
       "    <tr>\n",
       "      <th>66</th>\n",
       "      <td>6.9</td>\n",
       "      <td>96.0</td>\n",
       "    </tr>\n",
       "    <tr>\n",
       "      <th>39</th>\n",
       "      <td>4.6</td>\n",
       "      <td>146.0</td>\n",
       "    </tr>\n",
       "    <tr>\n",
       "      <th>92</th>\n",
       "      <td>5.2</td>\n",
       "      <td>110.0</td>\n",
       "    </tr>\n",
       "    <tr>\n",
       "      <th>55</th>\n",
       "      <td>7.8</td>\n",
       "      <td>114.0</td>\n",
       "    </tr>\n",
       "    <tr>\n",
       "      <th>59</th>\n",
       "      <td>4.8</td>\n",
       "      <td>112.0</td>\n",
       "    </tr>\n",
       "    <tr>\n",
       "      <th>98</th>\n",
       "      <td>6.3</td>\n",
       "      <td>103.0</td>\n",
       "    </tr>\n",
       "    <tr>\n",
       "      <th>96</th>\n",
       "      <td>4.4</td>\n",
       "      <td>42.0</td>\n",
       "    </tr>\n",
       "    <tr>\n",
       "      <th>34</th>\n",
       "      <td>4.8</td>\n",
       "      <td>163.0</td>\n",
       "    </tr>\n",
       "  </tbody>\n",
       "</table>\n",
       "</div>"
      ],
      "text/plain": [
       "    cgpa     iq\n",
       "30   7.6  128.0\n",
       "79   6.5   90.0\n",
       "66   6.9   96.0\n",
       "39   4.6  146.0\n",
       "92   5.2  110.0\n",
       "55   7.8  114.0\n",
       "59   4.8  112.0\n",
       "98   6.3  103.0\n",
       "96   4.4   42.0\n",
       "34   4.8  163.0"
      ]
     },
     "execution_count": 18,
     "metadata": {},
     "output_type": "execute_result"
    }
   ],
   "source": [
    "x_test"
   ]
  },
  {
   "cell_type": "code",
   "execution_count": 19,
   "id": "553cff42",
   "metadata": {
    "execution": {
     "iopub.execute_input": "2025-02-23T19:19:02.256198Z",
     "iopub.status.busy": "2025-02-23T19:19:02.255758Z",
     "iopub.status.idle": "2025-02-23T19:19:02.263192Z",
     "shell.execute_reply": "2025-02-23T19:19:02.261991Z"
    },
    "papermill": {
     "duration": 0.019916,
     "end_time": "2025-02-23T19:19:02.265167",
     "exception": false,
     "start_time": "2025-02-23T19:19:02.245251",
     "status": "completed"
    },
    "tags": []
   },
   "outputs": [
    {
     "data": {
      "text/plain": [
       "63    1\n",
       "53    1\n",
       "90    1\n",
       "44    1\n",
       "9     0\n",
       "     ..\n",
       "74    1\n",
       "97    1\n",
       "57    1\n",
       "42    1\n",
       "31    0\n",
       "Name: placement, Length: 90, dtype: int64"
      ]
     },
     "execution_count": 19,
     "metadata": {},
     "output_type": "execute_result"
    }
   ],
   "source": [
    "y_train"
   ]
  },
  {
   "cell_type": "code",
   "execution_count": 20,
   "id": "c56a4ff2",
   "metadata": {
    "execution": {
     "iopub.execute_input": "2025-02-23T19:19:02.286728Z",
     "iopub.status.busy": "2025-02-23T19:19:02.286289Z",
     "iopub.status.idle": "2025-02-23T19:19:02.293424Z",
     "shell.execute_reply": "2025-02-23T19:19:02.292113Z"
    },
    "papermill": {
     "duration": 0.01962,
     "end_time": "2025-02-23T19:19:02.295364",
     "exception": false,
     "start_time": "2025-02-23T19:19:02.275744",
     "status": "completed"
    },
    "tags": []
   },
   "outputs": [
    {
     "data": {
      "text/plain": [
       "30    1\n",
       "79    1\n",
       "66    1\n",
       "39    0\n",
       "92    0\n",
       "55    1\n",
       "59    0\n",
       "98    1\n",
       "96    0\n",
       "34    0\n",
       "Name: placement, dtype: int64"
      ]
     },
     "execution_count": 20,
     "metadata": {},
     "output_type": "execute_result"
    }
   ],
   "source": [
    "y_test"
   ]
  },
  {
   "cell_type": "code",
   "execution_count": 21,
   "id": "e0426ece",
   "metadata": {
    "execution": {
     "iopub.execute_input": "2025-02-23T19:19:02.316767Z",
     "iopub.status.busy": "2025-02-23T19:19:02.316422Z",
     "iopub.status.idle": "2025-02-23T19:19:02.321235Z",
     "shell.execute_reply": "2025-02-23T19:19:02.319899Z"
    },
    "papermill": {
     "duration": 0.017926,
     "end_time": "2025-02-23T19:19:02.323102",
     "exception": false,
     "start_time": "2025-02-23T19:19:02.305176",
     "status": "completed"
    },
    "tags": []
   },
   "outputs": [],
   "source": [
    "from sklearn.preprocessing import StandardScaler\n"
   ]
  },
  {
   "cell_type": "code",
   "execution_count": 22,
   "id": "ab208355",
   "metadata": {
    "execution": {
     "iopub.execute_input": "2025-02-23T19:19:02.348024Z",
     "iopub.status.busy": "2025-02-23T19:19:02.347305Z",
     "iopub.status.idle": "2025-02-23T19:19:02.352383Z",
     "shell.execute_reply": "2025-02-23T19:19:02.351131Z"
    },
    "papermill": {
     "duration": 0.01899,
     "end_time": "2025-02-23T19:19:02.354438",
     "exception": false,
     "start_time": "2025-02-23T19:19:02.335448",
     "status": "completed"
    },
    "tags": []
   },
   "outputs": [],
   "source": [
    "scaler = StandardScaler()"
   ]
  },
  {
   "cell_type": "code",
   "execution_count": 23,
   "id": "580d3a95",
   "metadata": {
    "execution": {
     "iopub.execute_input": "2025-02-23T19:19:02.376606Z",
     "iopub.status.busy": "2025-02-23T19:19:02.376253Z",
     "iopub.status.idle": "2025-02-23T19:19:02.383990Z",
     "shell.execute_reply": "2025-02-23T19:19:02.382824Z"
    },
    "papermill": {
     "duration": 0.020853,
     "end_time": "2025-02-23T19:19:02.385890",
     "exception": false,
     "start_time": "2025-02-23T19:19:02.365037",
     "status": "completed"
    },
    "tags": []
   },
   "outputs": [],
   "source": [
    "x_train = scaler.fit_transform(x_train)"
   ]
  },
  {
   "cell_type": "code",
   "execution_count": 24,
   "id": "84e9b6e3",
   "metadata": {
    "execution": {
     "iopub.execute_input": "2025-02-23T19:19:02.406831Z",
     "iopub.status.busy": "2025-02-23T19:19:02.406378Z",
     "iopub.status.idle": "2025-02-23T19:19:02.414810Z",
     "shell.execute_reply": "2025-02-23T19:19:02.413562Z"
    },
    "papermill": {
     "duration": 0.020926,
     "end_time": "2025-02-23T19:19:02.416666",
     "exception": false,
     "start_time": "2025-02-23T19:19:02.395740",
     "status": "completed"
    },
    "tags": []
   },
   "outputs": [
    {
     "data": {
      "text/plain": [
       "array([[ 2.64004688e-01,  7.33028183e-02],\n",
       "       [ 2.03717050e+00,  1.06537104e+00],\n",
       "       [ 1.15058760e+00, -9.68368810e-01],\n",
       "       [ 1.32790418e+00, -1.58841145e+00],\n",
       "       [-7.99894801e-01, -1.46440292e+00],\n",
       "       [-1.42050284e+00,  5.94138632e-01],\n",
       "       [ 8.84612723e-01, -1.51400633e+00],\n",
       "       [-7.99894801e-01,  7.33028183e-02],\n",
       "       [ 1.15058760e+00, -2.24317647e-01],\n",
       "       [-1.15452796e+00, -9.43567104e-01],\n",
       "       [-2.67945056e-01,  1.09017274e+00],\n",
       "       [ 8.84612723e-01, -3.23524469e-01],\n",
       "       [-9.06284750e-02, -4.72334701e-01],\n",
       "       [ 7.07296142e-01,  3.95724989e-01],\n",
       "       [-1.79286766e-01,  1.01576762e+00],\n",
       "       [-1.06586967e+00,  3.95724989e-01],\n",
       "       [-2.21842745e+00,  2.67748189e+00],\n",
       "       [-8.88553092e-01, -8.44360283e-01],\n",
       "       [ 8.66881065e-02, -1.48920462e+00],\n",
       "       [-9.77211383e-01,  1.75981879e+00],\n",
       "       [ 8.66881065e-02, -1.09237734e+00],\n",
       "       [ 7.95954433e-01,  3.46121578e-01],\n",
       "       [-6.22578220e-01, -2.73921058e-01],\n",
       "       [-1.97018424e-03, -1.98523873e+00],\n",
       "       [-9.77211383e-01, -1.58841145e+00],\n",
       "       [ 8.84612723e-01,  1.23898297e+00],\n",
       "       [-9.77211383e-01,  2.22113051e-01],\n",
       "       [ 4.41321270e-01, -2.18365238e+00],\n",
       "       [ 2.21448708e+00, -1.25110825e-01],\n",
       "       [ 2.64004688e-01,  4.85011128e-02],\n",
       "       [-2.67945056e-01,  3.70923283e-01],\n",
       "       [-1.97018424e-03, -5.71541523e-01],\n",
       "       [ 1.85985392e+00,  5.94138632e-01],\n",
       "       [ 5.29979560e-01, -1.25110825e-01],\n",
       "       [-9.77211383e-01,  6.43742043e-01],\n",
       "       [ 1.32790418e+00,  1.22906229e-01],\n",
       "       [-1.97018424e-03,  5.94138632e-01],\n",
       "       [-6.22578220e-01, -1.00309120e-01],\n",
       "       [ 3.52662979e-01,  3.95724989e-01],\n",
       "       [ 7.07296142e-01, -8.69161988e-01],\n",
       "       [-2.67945056e-01,  1.72509640e-01],\n",
       "       [ 8.66881065e-02,  1.72509640e-01],\n",
       "       [ 8.66881065e-02, -5.46739818e-01],\n",
       "       [-2.39574403e+00,  1.43739662e+00],\n",
       "       [ 1.77119563e+00, -1.14198075e+00],\n",
       "       [-7.99894801e-01,  1.26378468e+00],\n",
       "       [-5.33919929e-01, -2.73921058e-01],\n",
       "       [-1.06586967e+00,  1.09017274e+00],\n",
       "       [ 9.73271014e-01,  6.43742043e-01],\n",
       "       [-5.33919929e-01, -4.47532996e-01],\n",
       "       [-7.11236510e-01,  1.72509640e-01],\n",
       "       [-5.33919929e-01,  2.46914756e-01],\n",
       "       [ 1.23924589e+00,  1.72509640e-01],\n",
       "       [ 1.75346397e-01, -2.98722763e-01],\n",
       "       [ 7.95954433e-01,  3.21319873e-01],\n",
       "       [-8.88553092e-01, -1.74714236e-01],\n",
       "       [-2.67945056e-01,  4.45328400e-01],\n",
       "       [ 5.29979560e-01,  3.21319873e-01],\n",
       "       [-7.11236510e-01, -8.69161988e-01],\n",
       "       [-1.97018424e-03, -1.46440292e+00],\n",
       "       [ 9.73271014e-01, -1.91083362e+00],\n",
       "       [-1.77513600e+00, -6.21144934e-01],\n",
       "       [ 8.66881065e-02,  7.67750570e-01],\n",
       "       [ 1.15058760e+00, -1.86123021e+00],\n",
       "       [ 3.52662979e-01, -2.24317647e-01],\n",
       "       [-1.77513600e+00, -1.24118757e+00],\n",
       "       [-1.79286766e-01,  4.20526694e-01],\n",
       "       [ 7.07296142e-01, -5.07057089e-02],\n",
       "       [ 4.41321270e-01,  8.66957392e-01],\n",
       "       [ 1.15058760e+00,  2.96518167e-01],\n",
       "       [-9.77211383e-01, -1.25110825e-01],\n",
       "       [-1.50916113e+00,  1.85902561e+00],\n",
       "       [ 7.07296142e-01, -3.23524469e-01],\n",
       "       [-1.15452796e+00, -1.00309120e-01],\n",
       "       [ 1.85985392e+00,  1.01576762e+00],\n",
       "       [-7.11236510e-01,  8.91759098e-01],\n",
       "       [-9.77211383e-01,  7.42948865e-01],\n",
       "       [-8.88553092e-01, -1.53880803e+00],\n",
       "       [ 1.32790418e+00,  8.17353981e-01],\n",
       "       [-5.33919929e-01,  3.46121578e-01],\n",
       "       [-1.15452796e+00, -1.81162679e+00],\n",
       "       [-1.97018424e-03, -2.59040035e-02],\n",
       "       [ 8.84612723e-01,  3.46121578e-01],\n",
       "       [-7.11236510e-01,  2.45426654e+00],\n",
       "       [ 8.84612723e-01,  1.83422390e+00],\n",
       "       [ 6.18637851e-01,  7.18147160e-01],\n",
       "       [ 6.18637851e-01,  1.41259491e+00],\n",
       "       [ 4.41321270e-01,  1.22906229e-01],\n",
       "       [ 1.41656247e+00, -8.93963694e-01],\n",
       "       [-1.86379429e+00, -3.97929585e-01]])"
      ]
     },
     "execution_count": 24,
     "metadata": {},
     "output_type": "execute_result"
    }
   ],
   "source": [
    "x_train"
   ]
  },
  {
   "cell_type": "code",
   "execution_count": 25,
   "id": "29d57801",
   "metadata": {
    "execution": {
     "iopub.execute_input": "2025-02-23T19:19:02.438719Z",
     "iopub.status.busy": "2025-02-23T19:19:02.438301Z",
     "iopub.status.idle": "2025-02-23T19:19:02.444456Z",
     "shell.execute_reply": "2025-02-23T19:19:02.443107Z"
    },
    "papermill": {
     "duration": 0.019886,
     "end_time": "2025-02-23T19:19:02.446469",
     "exception": false,
     "start_time": "2025-02-23T19:19:02.426583",
     "status": "completed"
    },
    "tags": []
   },
   "outputs": [],
   "source": [
    "x_test = scaler.transform(x_test)"
   ]
  },
  {
   "cell_type": "code",
   "execution_count": 26,
   "id": "8be1db47",
   "metadata": {
    "execution": {
     "iopub.execute_input": "2025-02-23T19:19:02.468383Z",
     "iopub.status.busy": "2025-02-23T19:19:02.468019Z",
     "iopub.status.idle": "2025-02-23T19:19:02.474859Z",
     "shell.execute_reply": "2025-02-23T19:19:02.473439Z"
    },
    "papermill": {
     "duration": 0.019972,
     "end_time": "2025-02-23T19:19:02.476714",
     "exception": false,
     "start_time": "2025-02-23T19:19:02.456742",
     "status": "completed"
    },
    "tags": []
   },
   "outputs": [
    {
     "data": {
      "text/plain": [
       "array([[ 1.41656247,  0.07330282],\n",
       "       [ 0.44132127, -0.86916199],\n",
       "       [ 0.79595443, -0.72035176],\n",
       "       [-1.24318625,  0.51973352],\n",
       "       [-0.71123651, -0.37312788],\n",
       "       [ 1.59387905, -0.27392106],\n",
       "       [-1.06586967, -0.32352447],\n",
       "       [ 0.26400469, -0.54673982],\n",
       "       [-1.42050284, -2.05964385],\n",
       "       [-1.06586967,  0.94136251]])"
      ]
     },
     "execution_count": 26,
     "metadata": {},
     "output_type": "execute_result"
    }
   ],
   "source": [
    "x_test"
   ]
  },
  {
   "cell_type": "code",
   "execution_count": 27,
   "id": "a079e43d",
   "metadata": {
    "execution": {
     "iopub.execute_input": "2025-02-23T19:19:02.498412Z",
     "iopub.status.busy": "2025-02-23T19:19:02.498050Z",
     "iopub.status.idle": "2025-02-23T19:19:02.636095Z",
     "shell.execute_reply": "2025-02-23T19:19:02.634653Z"
    },
    "papermill": {
     "duration": 0.151305,
     "end_time": "2025-02-23T19:19:02.638220",
     "exception": false,
     "start_time": "2025-02-23T19:19:02.486915",
     "status": "completed"
    },
    "tags": []
   },
   "outputs": [],
   "source": [
    "from sklearn.linear_model import LogisticRegression"
   ]
  },
  {
   "cell_type": "code",
   "execution_count": 28,
   "id": "3832fc4b",
   "metadata": {
    "execution": {
     "iopub.execute_input": "2025-02-23T19:19:02.661742Z",
     "iopub.status.busy": "2025-02-23T19:19:02.661350Z",
     "iopub.status.idle": "2025-02-23T19:19:02.666335Z",
     "shell.execute_reply": "2025-02-23T19:19:02.664932Z"
    },
    "papermill": {
     "duration": 0.018761,
     "end_time": "2025-02-23T19:19:02.668409",
     "exception": false,
     "start_time": "2025-02-23T19:19:02.649648",
     "status": "completed"
    },
    "tags": []
   },
   "outputs": [],
   "source": [
    "clf = LogisticRegression()"
   ]
  },
  {
   "cell_type": "code",
   "execution_count": 29,
   "id": "1f58ee8a",
   "metadata": {
    "execution": {
     "iopub.execute_input": "2025-02-23T19:19:02.690521Z",
     "iopub.status.busy": "2025-02-23T19:19:02.690154Z",
     "iopub.status.idle": "2025-02-23T19:19:02.716839Z",
     "shell.execute_reply": "2025-02-23T19:19:02.715667Z"
    },
    "papermill": {
     "duration": 0.040246,
     "end_time": "2025-02-23T19:19:02.718798",
     "exception": false,
     "start_time": "2025-02-23T19:19:02.678552",
     "status": "completed"
    },
    "tags": []
   },
   "outputs": [
    {
     "data": {
      "text/html": [
       "<style>#sk-container-id-1 {color: black;background-color: white;}#sk-container-id-1 pre{padding: 0;}#sk-container-id-1 div.sk-toggleable {background-color: white;}#sk-container-id-1 label.sk-toggleable__label {cursor: pointer;display: block;width: 100%;margin-bottom: 0;padding: 0.3em;box-sizing: border-box;text-align: center;}#sk-container-id-1 label.sk-toggleable__label-arrow:before {content: \"▸\";float: left;margin-right: 0.25em;color: #696969;}#sk-container-id-1 label.sk-toggleable__label-arrow:hover:before {color: black;}#sk-container-id-1 div.sk-estimator:hover label.sk-toggleable__label-arrow:before {color: black;}#sk-container-id-1 div.sk-toggleable__content {max-height: 0;max-width: 0;overflow: hidden;text-align: left;background-color: #f0f8ff;}#sk-container-id-1 div.sk-toggleable__content pre {margin: 0.2em;color: black;border-radius: 0.25em;background-color: #f0f8ff;}#sk-container-id-1 input.sk-toggleable__control:checked~div.sk-toggleable__content {max-height: 200px;max-width: 100%;overflow: auto;}#sk-container-id-1 input.sk-toggleable__control:checked~label.sk-toggleable__label-arrow:before {content: \"▾\";}#sk-container-id-1 div.sk-estimator input.sk-toggleable__control:checked~label.sk-toggleable__label {background-color: #d4ebff;}#sk-container-id-1 div.sk-label input.sk-toggleable__control:checked~label.sk-toggleable__label {background-color: #d4ebff;}#sk-container-id-1 input.sk-hidden--visually {border: 0;clip: rect(1px 1px 1px 1px);clip: rect(1px, 1px, 1px, 1px);height: 1px;margin: -1px;overflow: hidden;padding: 0;position: absolute;width: 1px;}#sk-container-id-1 div.sk-estimator {font-family: monospace;background-color: #f0f8ff;border: 1px dotted black;border-radius: 0.25em;box-sizing: border-box;margin-bottom: 0.5em;}#sk-container-id-1 div.sk-estimator:hover {background-color: #d4ebff;}#sk-container-id-1 div.sk-parallel-item::after {content: \"\";width: 100%;border-bottom: 1px solid gray;flex-grow: 1;}#sk-container-id-1 div.sk-label:hover label.sk-toggleable__label {background-color: #d4ebff;}#sk-container-id-1 div.sk-serial::before {content: \"\";position: absolute;border-left: 1px solid gray;box-sizing: border-box;top: 0;bottom: 0;left: 50%;z-index: 0;}#sk-container-id-1 div.sk-serial {display: flex;flex-direction: column;align-items: center;background-color: white;padding-right: 0.2em;padding-left: 0.2em;position: relative;}#sk-container-id-1 div.sk-item {position: relative;z-index: 1;}#sk-container-id-1 div.sk-parallel {display: flex;align-items: stretch;justify-content: center;background-color: white;position: relative;}#sk-container-id-1 div.sk-item::before, #sk-container-id-1 div.sk-parallel-item::before {content: \"\";position: absolute;border-left: 1px solid gray;box-sizing: border-box;top: 0;bottom: 0;left: 50%;z-index: -1;}#sk-container-id-1 div.sk-parallel-item {display: flex;flex-direction: column;z-index: 1;position: relative;background-color: white;}#sk-container-id-1 div.sk-parallel-item:first-child::after {align-self: flex-end;width: 50%;}#sk-container-id-1 div.sk-parallel-item:last-child::after {align-self: flex-start;width: 50%;}#sk-container-id-1 div.sk-parallel-item:only-child::after {width: 0;}#sk-container-id-1 div.sk-dashed-wrapped {border: 1px dashed gray;margin: 0 0.4em 0.5em 0.4em;box-sizing: border-box;padding-bottom: 0.4em;background-color: white;}#sk-container-id-1 div.sk-label label {font-family: monospace;font-weight: bold;display: inline-block;line-height: 1.2em;}#sk-container-id-1 div.sk-label-container {text-align: center;}#sk-container-id-1 div.sk-container {/* jupyter's `normalize.less` sets `[hidden] { display: none; }` but bootstrap.min.css set `[hidden] { display: none !important; }` so we also need the `!important` here to be able to override the default hidden behavior on the sphinx rendered scikit-learn.org. See: https://github.com/scikit-learn/scikit-learn/issues/21755 */display: inline-block !important;position: relative;}#sk-container-id-1 div.sk-text-repr-fallback {display: none;}</style><div id=\"sk-container-id-1\" class=\"sk-top-container\"><div class=\"sk-text-repr-fallback\"><pre>LogisticRegression()</pre><b>In a Jupyter environment, please rerun this cell to show the HTML representation or trust the notebook. <br />On GitHub, the HTML representation is unable to render, please try loading this page with nbviewer.org.</b></div><div class=\"sk-container\" hidden><div class=\"sk-item\"><div class=\"sk-estimator sk-toggleable\"><input class=\"sk-toggleable__control sk-hidden--visually\" id=\"sk-estimator-id-1\" type=\"checkbox\" checked><label for=\"sk-estimator-id-1\" class=\"sk-toggleable__label sk-toggleable__label-arrow\">LogisticRegression</label><div class=\"sk-toggleable__content\"><pre>LogisticRegression()</pre></div></div></div></div></div>"
      ],
      "text/plain": [
       "LogisticRegression()"
      ]
     },
     "execution_count": 29,
     "metadata": {},
     "output_type": "execute_result"
    }
   ],
   "source": [
    "clf.fit(x_train,y_train)"
   ]
  },
  {
   "cell_type": "code",
   "execution_count": 30,
   "id": "3a8fe9ac",
   "metadata": {
    "execution": {
     "iopub.execute_input": "2025-02-23T19:19:02.742850Z",
     "iopub.status.busy": "2025-02-23T19:19:02.742482Z",
     "iopub.status.idle": "2025-02-23T19:19:02.747494Z",
     "shell.execute_reply": "2025-02-23T19:19:02.746247Z"
    },
    "papermill": {
     "duration": 0.020001,
     "end_time": "2025-02-23T19:19:02.749629",
     "exception": false,
     "start_time": "2025-02-23T19:19:02.729628",
     "status": "completed"
    },
    "tags": []
   },
   "outputs": [],
   "source": [
    "y_pred = clf.predict(x_test)"
   ]
  },
  {
   "cell_type": "code",
   "execution_count": 31,
   "id": "754848a9",
   "metadata": {
    "execution": {
     "iopub.execute_input": "2025-02-23T19:19:02.771922Z",
     "iopub.status.busy": "2025-02-23T19:19:02.771484Z",
     "iopub.status.idle": "2025-02-23T19:19:02.777850Z",
     "shell.execute_reply": "2025-02-23T19:19:02.776688Z"
    },
    "papermill": {
     "duration": 0.019417,
     "end_time": "2025-02-23T19:19:02.779579",
     "exception": false,
     "start_time": "2025-02-23T19:19:02.760162",
     "status": "completed"
    },
    "tags": []
   },
   "outputs": [
    {
     "data": {
      "text/plain": [
       "array([1, 1, 1, 0, 0, 1, 0, 1, 0, 0])"
      ]
     },
     "execution_count": 31,
     "metadata": {},
     "output_type": "execute_result"
    }
   ],
   "source": [
    "y_pred"
   ]
  },
  {
   "cell_type": "code",
   "execution_count": 32,
   "id": "b568f52d",
   "metadata": {
    "execution": {
     "iopub.execute_input": "2025-02-23T19:19:02.802008Z",
     "iopub.status.busy": "2025-02-23T19:19:02.801539Z",
     "iopub.status.idle": "2025-02-23T19:19:02.808375Z",
     "shell.execute_reply": "2025-02-23T19:19:02.807287Z"
    },
    "papermill": {
     "duration": 0.02003,
     "end_time": "2025-02-23T19:19:02.810221",
     "exception": false,
     "start_time": "2025-02-23T19:19:02.790191",
     "status": "completed"
    },
    "tags": []
   },
   "outputs": [
    {
     "data": {
      "text/plain": [
       "30    1\n",
       "79    1\n",
       "66    1\n",
       "39    0\n",
       "92    0\n",
       "55    1\n",
       "59    0\n",
       "98    1\n",
       "96    0\n",
       "34    0\n",
       "Name: placement, dtype: int64"
      ]
     },
     "execution_count": 32,
     "metadata": {},
     "output_type": "execute_result"
    }
   ],
   "source": [
    "y_test"
   ]
  },
  {
   "cell_type": "code",
   "execution_count": 33,
   "id": "45765d23",
   "metadata": {
    "execution": {
     "iopub.execute_input": "2025-02-23T19:19:02.834456Z",
     "iopub.status.busy": "2025-02-23T19:19:02.833802Z",
     "iopub.status.idle": "2025-02-23T19:19:02.839687Z",
     "shell.execute_reply": "2025-02-23T19:19:02.838424Z"
    },
    "papermill": {
     "duration": 0.020744,
     "end_time": "2025-02-23T19:19:02.841582",
     "exception": false,
     "start_time": "2025-02-23T19:19:02.820838",
     "status": "completed"
    },
    "tags": []
   },
   "outputs": [],
   "source": [
    "from sklearn.metrics import accuracy_score"
   ]
  },
  {
   "cell_type": "code",
   "execution_count": 34,
   "id": "d6abf2b0",
   "metadata": {
    "execution": {
     "iopub.execute_input": "2025-02-23T19:19:02.873815Z",
     "iopub.status.busy": "2025-02-23T19:19:02.873344Z",
     "iopub.status.idle": "2025-02-23T19:19:02.883316Z",
     "shell.execute_reply": "2025-02-23T19:19:02.881768Z"
    },
    "papermill": {
     "duration": 0.029713,
     "end_time": "2025-02-23T19:19:02.886095",
     "exception": false,
     "start_time": "2025-02-23T19:19:02.856382",
     "status": "completed"
    },
    "tags": []
   },
   "outputs": [
    {
     "data": {
      "text/plain": [
       "1.0"
      ]
     },
     "execution_count": 34,
     "metadata": {},
     "output_type": "execute_result"
    }
   ],
   "source": [
    "accuracy_score(y_test,y_pred)"
   ]
  },
  {
   "cell_type": "code",
   "execution_count": 35,
   "id": "357d217d",
   "metadata": {
    "execution": {
     "iopub.execute_input": "2025-02-23T19:19:02.915189Z",
     "iopub.status.busy": "2025-02-23T19:19:02.914791Z",
     "iopub.status.idle": "2025-02-23T19:19:03.012913Z",
     "shell.execute_reply": "2025-02-23T19:19:03.011102Z"
    },
    "papermill": {
     "duration": 0.112942,
     "end_time": "2025-02-23T19:19:03.015701",
     "exception": false,
     "start_time": "2025-02-23T19:19:02.902759",
     "status": "completed"
    },
    "tags": []
   },
   "outputs": [],
   "source": [
    "from mlxtend.plotting import plot_decision_regions"
   ]
  },
  {
   "cell_type": "code",
   "execution_count": 36,
   "id": "1b1182bc",
   "metadata": {
    "execution": {
     "iopub.execute_input": "2025-02-23T19:19:03.061232Z",
     "iopub.status.busy": "2025-02-23T19:19:03.060477Z",
     "iopub.status.idle": "2025-02-23T19:19:03.439320Z",
     "shell.execute_reply": "2025-02-23T19:19:03.438103Z"
    },
    "papermill": {
     "duration": 0.403658,
     "end_time": "2025-02-23T19:19:03.441759",
     "exception": false,
     "start_time": "2025-02-23T19:19:03.038101",
     "status": "completed"
    },
    "tags": []
   },
   "outputs": [
    {
     "data": {
      "text/plain": [
       "<Axes: >"
      ]
     },
     "execution_count": 36,
     "metadata": {},
     "output_type": "execute_result"
    },
    {
     "data": {
      "image/png": "[encoded data removed]",
      "text/plain": [
       "<Figure size 640x480 with 1 Axes>"
      ]
     },
     "metadata": {},
     "output_type": "display_data"
    }
   ],
   "source": [
    "plot_decision_regions(x_train, y_train.values, clf=clf, legend=2)\n"
   ]
  },
  {
   "cell_type": "code",
   "execution_count": 37,
   "id": "a4d33483",
   "metadata": {
    "execution": {
     "iopub.execute_input": "2025-02-23T19:19:03.466309Z",
     "iopub.status.busy": "2025-02-23T19:19:03.465857Z",
     "iopub.status.idle": "2025-02-23T19:19:03.470585Z",
     "shell.execute_reply": "2025-02-23T19:19:03.469373Z"
    },
    "papermill": {
     "duration": 0.018836,
     "end_time": "2025-02-23T19:19:03.472480",
     "exception": false,
     "start_time": "2025-02-23T19:19:03.453644",
     "status": "completed"
    },
    "tags": []
   },
   "outputs": [],
   "source": [
    "import pickle"
   ]
  },
  {
   "cell_type": "code",
   "execution_count": 38,
   "id": "8cd6315b",
   "metadata": {
    "execution": {
     "iopub.execute_input": "2025-02-23T19:19:03.496247Z",
     "iopub.status.busy": "2025-02-23T19:19:03.495841Z",
     "iopub.status.idle": "2025-02-23T19:19:03.501169Z",
     "shell.execute_reply": "2025-02-23T19:19:03.500119Z"
    },
    "papermill": {
     "duration": 0.019149,
     "end_time": "2025-02-23T19:19:03.502874",
     "exception": false,
     "start_time": "2025-02-23T19:19:03.483725",
     "status": "completed"
    },
    "tags": []
   },
   "outputs": [],
   "source": [
    "pickle.dump(clf,open('model_pkl','wb'))"
   ]
  },
  {
   "cell_type": "code",
   "execution_count": null,
   "id": "41dbb086",
   "metadata": {
    "papermill": {
     "duration": 0.01156,
     "end_time": "2025-02-23T19:19:03.525822",
     "exception": false,
     "start_time": "2025-02-23T19:19:03.514262",
     "status": "completed"
    },
    "tags": []
   },
   "outputs": [],
   "source": []
  }
 ],
 "metadata": {
  "kaggle": {
   "accelerator": "none",
   "dataSources": [
    {
     "datasetId": 6727123,
     "sourceId": 10833083,
     "sourceType": "datasetVersion"
    }
   ],
   "dockerImageVersionId": 30918,
   "isGpuEnabled": false,
   "isInternetEnabled": true,
   "language": "python",
   "sourceType": "notebook"
  },
  "kernelspec": {
   "display_name": "Python 3",
   "language": "python",
   "name": "python3"
  },
  "language_info": {
   "codemirror_mode": {
    "name": "ipython",
    "version": 3
   },
   "file_extension": ".py",
   "mimetype": "text/x-python",
   "name": "python",
   "nbconvert_exporter": "python",
   "pygments_lexer": "ipython3",
   "version": "3.10.12"
  },
  "papermill": {
   "default_parameters": {},
   "duration": 8.632613,
   "end_time": "2025-02-23T19:19:04.259758",
   "environment_variables": {},
   "exception": null,
   "input_path": "__notebook__.ipynb",
   "output_path": "__notebook__.ipynb",
   "parameters": {},
   "start_time": "2025-02-23T19:18:55.627145",
   "version": "2.6.0"
  }
 },
 "nbformat": 4,
 "nbformat_minor": 5
}
